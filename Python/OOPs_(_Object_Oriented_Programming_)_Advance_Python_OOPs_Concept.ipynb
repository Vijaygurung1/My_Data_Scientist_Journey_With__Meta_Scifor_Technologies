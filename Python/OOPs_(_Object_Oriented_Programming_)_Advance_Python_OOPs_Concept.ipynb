{
  "nbformat": 4,
  "nbformat_minor": 0,
  "metadata": {
    "colab": {
      "provenance": []
    },
    "kernelspec": {
      "name": "python3",
      "display_name": "Python 3"
    },
    "language_info": {
      "name": "python"
    }
  },
  "cells": [
    {
      "cell_type": "code",
      "source": [
        "# Question No 1 :-                                               [ \" ENCAPSULATION \" ]\n",
        "\n",
        "class Car:\n",
        "    def __init__(self, brand, model, year):\n",
        "        # self.__brand = brand  # Encapsulate with double underscore #private attribute\n",
        "        self.__brand = brand\n",
        "        self.model = model\n",
        "        self.year = year\n",
        "\n",
        "    def get_brand(self):  # Public method to access private attribute\n",
        "        return self.__brand\n",
        "\n",
        "    def accelerate(self):\n",
        "        print(f\"The {self.model} is accelerating!\")\n",
        "\n",
        "# Create a Car object\n",
        "my_car = Car(\"Tesla\", \"Model S\", 2023)\n",
        "\n",
        "# Access public attribute\n",
        "print(my_car.model)  # Output: Model S\n",
        "\n",
        "print(my_car.get_brand())  # Output: Tesla"
      ],
      "metadata": {
        "colab": {
          "base_uri": "https://localhost:8080/"
        },
        "id": "BFZkU2x3h8F6",
        "outputId": "24611631-c747-4177-daad-47778fb21bca"
      },
      "execution_count": 2,
      "outputs": [
        {
          "output_type": "stream",
          "name": "stdout",
          "text": [
            "Model S\n",
            "Tesla\n"
          ]
        }
      ]
    },
    {
      "cell_type": "code",
      "source": [
        "# Question No 2 :-                                               [ \"POLYMORPHISM\" ]\n",
        "\n",
        "\n",
        "class Animal: # parent class\n",
        "    def make_sound(self):\n",
        "        print(\"Generic animal sound\")\n",
        "\n",
        "class Dog(Animal): #subclass \"dog\" inheriting from Animal  #subclasss - dog inherting from \"Animal\" class\n",
        "    def make_sound(self):\n",
        "        print(\"Woof!\")\n",
        "\n",
        "class Cat(Animal): #subclass \"cat\" inheriting from parent class \"Animal\"\n",
        "    def make_sound(self):\n",
        "        print(\"Meow!\")\n",
        "\n",
        "def speak(animal): #speak - method responsible for polymorphism, animal : object\n",
        "    animal.make_sound()  # Polymorphic behavior\n",
        "\n",
        "# Create Animal objects\n",
        "dog = Dog()\n",
        "cat = Cat()\n",
        "\n",
        "speak(dog)  # Output: Woof!\n",
        "speak(cat)  # Output: Meow!"
      ],
      "metadata": {
        "colab": {
          "base_uri": "https://localhost:8080/"
        },
        "id": "wrInT9_Bh8LN",
        "outputId": "b0680c7e-98b7-478a-c40f-9100e0bb9446"
      },
      "execution_count": 3,
      "outputs": [
        {
          "output_type": "stream",
          "name": "stdout",
          "text": [
            "Woof!\n",
            "Meow!\n"
          ]
        }
      ]
    },
    {
      "cell_type": "code",
      "source": [],
      "metadata": {
        "id": "kMLuM__Mh5jB"
      },
      "execution_count": null,
      "outputs": []
    },
    {
      "cell_type": "code",
      "source": [
        "# Question No 3 :-                                   [ \"SINGLE_LEVEL_INHERITANCE - 1 # Base_Class / 1 # Dervied_Class\" ]\n",
        "\n",
        "# Base class\n",
        "class Animal:\n",
        "    def speak(self):\n",
        "        print(\"Animal speaks\")\n",
        "\n",
        "# Derived class\n",
        "class Dog(Animal):\n",
        "    def bark(self):\n",
        "        print(\"Dog barks\")\n",
        "\n",
        "# Create an instance of Dog\n",
        "dog = Dog()\n",
        "dog.speak()  # Inherited method #output - animal speaks\n",
        "dog.bark()   # Method of Dog class"
      ],
      "metadata": {
        "colab": {
          "base_uri": "https://localhost:8080/"
        },
        "id": "OpfRCa0sh5l5",
        "outputId": "40355b56-c02b-4ee9-cfc1-4a2bdd6e2946"
      },
      "execution_count": 4,
      "outputs": [
        {
          "output_type": "stream",
          "name": "stdout",
          "text": [
            "Animal speaks\n",
            "Dog barks\n"
          ]
        }
      ]
    },
    {
      "cell_type": "code",
      "source": [
        "# Question No 4 :-                                           [ \"Multi_Level_Inheritance\" ]\n",
        "\n",
        "# Base class #self - use to acessing the instances variables and methods\n",
        "class Animal:\n",
        "    def speak(self):\n",
        "        print(\"Animal speaks\")\n",
        "\n",
        "# Derived class\n",
        "class Dog(Animal):\n",
        "    def bark(self):\n",
        "        print(\"Dog barks\")\n",
        "\n",
        "# Further derived class\n",
        "class Puppy(Dog):\n",
        "    def cry(self):\n",
        "        print(\"Puppy cries\")\n",
        "\n",
        "\n",
        "# Create an instance of Puppy\n",
        "puppy = Puppy()\n",
        "\n",
        "puppy.speak()  # Inherited from Animal\n",
        "puppy.bark()   # Inherited from Dog\n",
        "puppy.cry()    # Method of Puppy class"
      ],
      "metadata": {
        "colab": {
          "base_uri": "https://localhost:8080/"
        },
        "id": "dYr4eKi0ievT",
        "outputId": "0be9db6e-7213-4ecb-a688-03dff7a2b5c0"
      },
      "execution_count": 6,
      "outputs": [
        {
          "output_type": "stream",
          "name": "stdout",
          "text": [
            "Animal speaks\n",
            "Dog barks\n",
            "Puppy cries\n"
          ]
        }
      ]
    },
    {
      "cell_type": "code",
      "source": [
        "# Question No 5 :-                                              [ \"METHOD_OVERRIDING\" ]\n",
        "\n",
        "class Animal :\n",
        "  def make_sound (self) :\n",
        "    return \"generic\"\n",
        "\n",
        "class Dog(Animal):\n",
        "  def make_sound(self):\n",
        "    return \"woof\"\n",
        "\n",
        "class Cat(Animal):\n",
        "  def make_sound (self):\n",
        "    return \"meow\"\n",
        "\n",
        "# ques - do all the print statement will get printed in output ?\n",
        "\n",
        "# make instance+call instance\n",
        "\n",
        "dog=Dog()\n",
        "cat=Cat()\n",
        "\n",
        "print(dog.make_sound())\n",
        "print(cat.make_sound())"
      ],
      "metadata": {
        "colab": {
          "base_uri": "https://localhost:8080/"
        },
        "id": "43YxTneuijd2",
        "outputId": "3cbe1659-9429-4ce9-e240-aedbfe63ba0c"
      },
      "execution_count": 7,
      "outputs": [
        {
          "output_type": "stream",
          "name": "stdout",
          "text": [
            "woof\n",
            "meow\n"
          ]
        }
      ]
    },
    {
      "cell_type": "code",
      "source": [
        "# Question No 6 :-                                              [ \"Multiple_Level\" ]\n",
        "\n",
        "# Base class 1\n",
        "class Father:\n",
        "    def skills(self):\n",
        "        print(\"Father's skills\")\n",
        "\n",
        "# Base class 2\n",
        "class Mother:\n",
        "    def skills(self):\n",
        "        print(\"Mother's skills\")\n",
        "\n",
        "# Derived class\n",
        "class Child(Father, Mother): #multiple level inheritance going on here!\n",
        "    def skills(self):\n",
        "        super().skills()  # Calls the first class in the MRO (Method Resolution Order)\n",
        "        print(\"Child's skills\")\n",
        "\n",
        "# Create an instance of Child\n",
        "child = Child()\n",
        "mother = Mother()\n",
        "child.skills()  # This will call Child's skills method"
      ],
      "metadata": {
        "colab": {
          "base_uri": "https://localhost:8080/"
        },
        "id": "-Gf_Phusijga",
        "outputId": "f1cd1134-45f9-4c43-f39e-2edcd0cec526"
      },
      "execution_count": 8,
      "outputs": [
        {
          "output_type": "stream",
          "name": "stdout",
          "text": [
            "Father's skills\n",
            "Child's skills\n"
          ]
        }
      ]
    },
    {
      "cell_type": "code",
      "source": [
        "# Question No 7 :-    # 1st Option                             [\" Multiple Level\" ]\n",
        "\n",
        "# Base class 1\n",
        "class Father:\n",
        "    def skills(self):\n",
        "        print(\"Father's skills\")\n",
        "\n",
        "# Base class 2\n",
        "class Mother:\n",
        "    def skills(self):\n",
        "        print(\"Mother's skills\")\n",
        "\n",
        "# Derived class\n",
        "class Child(Father, Mother): #multiple level inheritance going on here!\n",
        "    def skills(self):\n",
        "        super().skills()  # Calls the first class in the MRO (Method Resolution Order)\n",
        "        print(\"Child's skills\")\n",
        "\n",
        "# Create an instance of Child\n",
        "child = Child()\n",
        "mother = Mother()\n",
        "child.skills()  # This will call Child's skills method"
      ],
      "metadata": {
        "colab": {
          "base_uri": "https://localhost:8080/"
        },
        "id": "SzZoPuszi_di",
        "outputId": "68391e2f-9549-4aa1-c9d7-34033531eb62"
      },
      "execution_count": 9,
      "outputs": [
        {
          "output_type": "stream",
          "name": "stdout",
          "text": [
            "Father's skills\n",
            "Child's skills\n"
          ]
        }
      ]
    },
    {
      "cell_type": "code",
      "source": [
        "# Question No 7 :-  2nd Option                                [ \"Multiple Level\" ]\n",
        "\n",
        "\n",
        "class Parent:\n",
        "    def skills(self):\n",
        "        pass  # Placeholder method, will be overridden in subclasses\n",
        "\n",
        "class Father(Parent):\n",
        "    def skills(self):\n",
        "        print(\"Father's skills\")\n",
        "\n",
        "class Mother(Parent):\n",
        "    def skills(self):\n",
        "        print(\"Mother's skills\")\n",
        "\n",
        "class Child(Father, Mother):\n",
        "    def skills(self):\n",
        "        super().skills()  # Calls the first class in the MRO (Method Resolution Order)\n",
        "        print(\"Child's skills\")\n",
        "\n",
        "# Creating instances\n",
        "father = Father()\n",
        "mother = Mother()\n",
        "child = Child()\n",
        "\n",
        "# Output\n",
        "mother.skills()\n",
        "child.skills()"
      ],
      "metadata": {
        "colab": {
          "base_uri": "https://localhost:8080/"
        },
        "id": "gqdrUgi6jJS3",
        "outputId": "d5e9505e-d998-4921-d6ea-2f984a36b0d3"
      },
      "execution_count": 10,
      "outputs": [
        {
          "output_type": "stream",
          "name": "stdout",
          "text": [
            "Mother's skills\n",
            "Father's skills\n",
            "Child's skills\n"
          ]
        }
      ]
    },
    {
      "cell_type": "code",
      "source": [],
      "metadata": {
        "id": "sK7JOmF3jVbS"
      },
      "execution_count": null,
      "outputs": []
    },
    {
      "cell_type": "code",
      "source": [
        "# Question No 8 :-                                                  [ \"Hierarichail\" ]\n",
        "\n",
        "# Base class\n",
        "class Animal:\n",
        "    def speak(self):\n",
        "        print(\"Animal speaks\")\n",
        "\n",
        "# Derived class 1\n",
        "class Dog(Animal):\n",
        "    def bark(self):\n",
        "        print(\"Dog barks\")\n",
        "\n",
        "# Derived class 2\n",
        "class Cat(Animal):\n",
        "    def meow(self):\n",
        "        print(\"Cat meows\")\n",
        "\n",
        "# Create instances of Dog and Cat\n",
        "dog = Dog()\n",
        "cat = Cat()\n",
        "\n",
        "dog.speak()  # Inherited method calls\n",
        "dog.bark()   # Method of Dog class\n",
        "\n",
        "cat.speak()  # Inherited method\n",
        "cat.meow()   # Method of Cat class"
      ],
      "metadata": {
        "colab": {
          "base_uri": "https://localhost:8080/"
        },
        "id": "PFS8RQ6Cjktb",
        "outputId": "cda24f48-9e64-4edd-f742-e02497152421"
      },
      "execution_count": 12,
      "outputs": [
        {
          "output_type": "stream",
          "name": "stdout",
          "text": [
            "Animal speaks\n",
            "Dog barks\n",
            "Animal speaks\n",
            "Cat meows\n"
          ]
        }
      ]
    },
    {
      "cell_type": "code",
      "source": [
        "# Question No 9 :-                     [ \"Hybrid Inheritance = [ Combination Multiple Inheritance + Multi-level Inheritance\" ]\n",
        "\n",
        "\n",
        "# Base class / name - attribute\n",
        "class Animal:\n",
        "    def __init__(self, name):\n",
        "        self.name = name\n",
        "\n",
        "    def speak(self):\n",
        "        print(f\"{self.name} makes a sound\")\n",
        "\n",
        "# Single inheritance\n",
        "class Dog(Animal):\n",
        "    def speak(self):\n",
        "        print(f\"{self.name} says Woof!\")\n",
        "\n",
        "# Multilevel inheritance\n",
        "class Puppy(Dog):\n",
        "    def speak(self):\n",
        "        print(f\"{self.name} says Yip!\")\n",
        "\n",
        "# Another base class\n",
        "class Bird:\n",
        "    def __init__(self, name):\n",
        "        self.name = name\n",
        "\n",
        "    def fly(self):\n",
        "        print(f\"{self.name} can fly\")\n",
        "\n",
        "# Multiple inheritance\n",
        "#FLYING DOG - BASE CLASS OR PARENT = INHERITED FROM DOG AND BIRD\n",
        "class FlyingDog(Dog, Bird):\n",
        "    def __init__(self, name):\n",
        "        Dog.__init__(self, name)\n",
        "        Bird.__init__(self, name)\n",
        "\n",
        "    def speak(self):\n",
        "        Dog.speak(self)\n",
        "        Bird.fly(self)\n",
        "\n",
        "# Hybrid inheritance\n",
        "class FlyingPuppy(Puppy, Bird):\n",
        "    def __init__(self, name):\n",
        "        Puppy.__init__(self, name)\n",
        "        Bird.__init__(self, name)\n",
        "\n",
        "    def speak(self):\n",
        "        Puppy.speak(self)\n",
        "        Bird.fly(self)\n",
        "\n",
        "# Create instances\n",
        "dog = Dog(\"Buddy\")\n",
        "puppy = Puppy(\"Fluffy\")\n",
        "flying_dog = FlyingDog(\"Sky\")\n",
        "flying_puppy = FlyingPuppy(\"Wings\")\n",
        "\n",
        "# Test the methods\n",
        "dog.speak()             # Output: Buddy says Woof!\n",
        "puppy.speak()           # Output: Fluffy says Yip!\n",
        "flying_dog.speak()      # Output: Sky says Woof! \\n Sky can fly\n",
        "flying_puppy.speak()"
      ],
      "metadata": {
        "colab": {
          "base_uri": "https://localhost:8080/"
        },
        "id": "ryRpOA9qjkwf",
        "outputId": "fb744431-02dc-4a26-a3b6-5fcfe7fd70e0"
      },
      "execution_count": 13,
      "outputs": [
        {
          "output_type": "stream",
          "name": "stdout",
          "text": [
            "Buddy says Woof!\n",
            "Fluffy says Yip!\n",
            "Sky says Woof!\n",
            "Sky can fly\n",
            "Wings says Yip!\n",
            "Wings can fly\n"
          ]
        }
      ]
    },
    {
      "cell_type": "code",
      "source": [],
      "metadata": {
        "id": "HaVM_8KwjkzG"
      },
      "execution_count": null,
      "outputs": []
    }
  ]
}