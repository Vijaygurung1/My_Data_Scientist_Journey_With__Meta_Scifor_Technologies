{
 "cells": [
  {
   "cell_type": "markdown",
   "id": "0d598352",
   "metadata": {},
   "source": [
    "                            Below is the step by step for \"Sreamlit project\" !\n",
    "    \n",
    "    \n",
    "                                  Question :- \n",
    "\n",
    "Kindly make an \"Streamlit App\" which have \"Button\", \"Title\", \"slider\" and \"Image\" with caption below it \n"
   ]
  },
  {
   "cell_type": "markdown",
   "id": "5eac603b",
   "metadata": {},
   "source": [
    "Below is the code !\n",
    "\n",
    "Note:-\n",
    "\n",
    "\n",
    "The code below is for this project. Before running it, follow these steps:\n",
    "\n",
    "    \n",
    "# Step 1:\n",
    "\n",
    "Create a file named as a [ File.py ]\n",
    "\n",
    "Once created, copy and paste the code below into this file.\n",
    "\n",
    "Do not touch the code after pasting it.\n",
    "\n",
    "Save this file and the picture, we want to display as out final outcome.\n",
    "\n",
    "This is my File location - [ C:\\Users\\DELL\\PycharmProjects\\Streamlit_1st_Project ]\n",
    "\n",
    "Now, both my code and photo are in the same location."
   ]
  },
  {
   "cell_type": "code",
   "execution_count": null,
   "id": "b9879f57",
   "metadata": {},
   "outputs": [],
   "source": [
    "import streamlit as st\n",
    "\n",
    "# Title of the app\n",
    "st.title(\"Hello_Coders!\")\n",
    "\n",
    "# Subtitle\n",
    "st.write(\"We are Anonymous - We are legion, We do not forget, We do not forgive, Expect Us\")\n",
    "\n",
    "# Display an image with a caption\n",
    "st.image(\"photospheres.jpg\", caption=\"Anonymous_group\")\n",
    "\n",
    "# Button widget\n",
    "if st.button(\"Punch Me\"):\n",
    "    st.write(\"Button was clicked!\")\n",
    "\n",
    "# Slider widget\n",
    "location = st.slider(\"Hello Government Can you guess our actual location?\", 0, 130, 25)\n",
    "st.write(f\"I have lived here from the past {location} years!\") "
   ]
  },
  {
   "cell_type": "markdown",
   "id": "a5500c98",
   "metadata": {},
   "source": [
    "Inside Terminal paste those below codes."
   ]
  },
  {
   "cell_type": "markdown",
   "id": "95873fc7",
   "metadata": {},
   "source": [
    "# Step 2:\n",
    "    \n",
    "    \n",
    "Go to the terminal section:\n",
    "    \n",
    "This is my File location - [ C:\\Users\\DELL\\PycharmProjects\\Streamlit_1st_Project ]\n",
    "  \n",
    "(A) paste this code 1st :- [ pip install streamlit ]\n",
    "\n",
    "(B ) Now Paste this code :- [ streamlit run file.py ]\n",
    "    \n",
    "\n",
    "# Conclusion:\n",
    "\n",
    "Once you hit enter in the terminal, a new window will open displaying the picture and the project will be complete."
   ]
  },
  {
   "cell_type": "code",
   "execution_count": null,
   "id": "5e4b8d65",
   "metadata": {},
   "outputs": [],
   "source": []
  }
 ],
 "metadata": {
  "kernelspec": {
   "display_name": "Python 3 (ipykernel)",
   "language": "python",
   "name": "python3"
  },
  "language_info": {
   "codemirror_mode": {
    "name": "ipython",
    "version": 3
   },
   "file_extension": ".py",
   "mimetype": "text/x-python",
   "name": "python",
   "nbconvert_exporter": "python",
   "pygments_lexer": "ipython3",
   "version": "3.11.5"
  }
 },
 "nbformat": 4,
 "nbformat_minor": 5
}
