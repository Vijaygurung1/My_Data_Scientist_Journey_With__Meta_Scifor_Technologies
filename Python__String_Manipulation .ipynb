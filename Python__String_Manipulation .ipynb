{
  "nbformat": 4,
  "nbformat_minor": 0,
  "metadata": {
    "colab": {
      "provenance": []
    },
    "kernelspec": {
      "name": "python3",
      "display_name": "Python 3"
    },
    "language_info": {
      "name": "python"
    }
  },
  "cells": [
    {
      "cell_type": "code",
      "execution_count": null,
      "metadata": {
        "id": "fqinCYas_rkB"
      },
      "outputs": [],
      "source": [
        "#                                                                        \"String Manipulation\""
      ]
    },
    {
      "cell_type": "code",
      "source": [
        "#                                                                            Definitation :-\n",
        "\n",
        "# \"String is nothing but a combination of character a multiple character\""
      ],
      "metadata": {
        "id": "3lJC1nNlGezg"
      },
      "execution_count": null,
      "outputs": []
    },
    {
      "cell_type": "code",
      "source": [
        "#  ( D,a,t,a,s,c,i,e,n,c,e ) - these are nothing but character.Here are going to extract some of the character from given string(str)\n",
        "\n",
        "# Note :- Always use square bracket to extract the data.\n",
        "\n",
        "#   1.Forward Index -01245678 (positive indexes moving forward postitive direction)\n",
        "\n",
        "#   2.Backward Index- -8-7-6-5-4-3-2-1 (Negative indexes moving backward direction)"
      ],
      "metadata": {
        "id": "P50v5K_rGfR8"
      },
      "execution_count": null,
      "outputs": []
    },
    {
      "cell_type": "code",
      "source": [
        "v = \"datascience\""
      ],
      "metadata": {
        "id": "iU4unshXGfU9"
      },
      "execution_count": null,
      "outputs": []
    },
    {
      "cell_type": "code",
      "source": [
        "v[0]"
      ],
      "metadata": {
        "colab": {
          "base_uri": "https://localhost:8080/",
          "height": 35
        },
        "id": "s4Ag-gpHGfX4",
        "outputId": "ff40b007-c76d-4415-cedd-148b9d6a1a71"
      },
      "execution_count": null,
      "outputs": [
        {
          "output_type": "execute_result",
          "data": {
            "text/plain": [
              "'d'"
            ],
            "application/vnd.google.colaboratory.intrinsic+json": {
              "type": "string"
            }
          },
          "metadata": {},
          "execution_count": 2
        }
      ]
    },
    {
      "cell_type": "code",
      "source": [
        "v[5]"
      ],
      "metadata": {
        "colab": {
          "base_uri": "https://localhost:8080/",
          "height": 35
        },
        "id": "yQOFwy8zJzyj",
        "outputId": "4c1cdb28-f0f5-46c3-8145-e644e8d2d95e"
      },
      "execution_count": null,
      "outputs": [
        {
          "output_type": "execute_result",
          "data": {
            "text/plain": [
              "'c'"
            ],
            "application/vnd.google.colaboratory.intrinsic+json": {
              "type": "string"
            }
          },
          "metadata": {},
          "execution_count": 3
        }
      ]
    },
    {
      "cell_type": "code",
      "source": [
        "v[-1]"
      ],
      "metadata": {
        "colab": {
          "base_uri": "https://localhost:8080/",
          "height": 35
        },
        "id": "wjhmOCUdJ5el",
        "outputId": "6375b9a9-4560-49c1-a083-31704964c38c"
      },
      "execution_count": null,
      "outputs": [
        {
          "output_type": "execute_result",
          "data": {
            "text/plain": [
              "'e'"
            ],
            "application/vnd.google.colaboratory.intrinsic+json": {
              "type": "string"
            }
          },
          "metadata": {},
          "execution_count": 4
        }
      ]
    },
    {
      "cell_type": "code",
      "source": [
        "v1 = \"vijay\""
      ],
      "metadata": {
        "id": "G3U4ONKrJ8HL"
      },
      "execution_count": null,
      "outputs": []
    },
    {
      "cell_type": "code",
      "source": [
        "v1[-1]"
      ],
      "metadata": {
        "colab": {
          "base_uri": "https://localhost:8080/",
          "height": 35
        },
        "id": "VIjplEAIK79k",
        "outputId": "67a3b987-203f-492e-f06c-56328c26460d"
      },
      "execution_count": null,
      "outputs": [
        {
          "output_type": "execute_result",
          "data": {
            "text/plain": [
              "'y'"
            ],
            "application/vnd.google.colaboratory.intrinsic+json": {
              "type": "string"
            }
          },
          "metadata": {},
          "execution_count": 34
        }
      ]
    },
    {
      "cell_type": "code",
      "source": [
        "v1[-2]"
      ],
      "metadata": {
        "colab": {
          "base_uri": "https://localhost:8080/",
          "height": 35
        },
        "id": "QcO5fifZK8AK",
        "outputId": "e3348361-e059-4b16-c55a-fd8e822ac935"
      },
      "execution_count": null,
      "outputs": [
        {
          "output_type": "execute_result",
          "data": {
            "text/plain": [
              "'a'"
            ],
            "application/vnd.google.colaboratory.intrinsic+json": {
              "type": "string"
            }
          },
          "metadata": {},
          "execution_count": 36
        }
      ]
    },
    {
      "cell_type": "code",
      "source": [
        "#\n",
        "\n",
        "# 1.single couch  (' ') &\n",
        "\n",
        "# Double couch or quote ( \" \" )"
      ],
      "metadata": {
        "id": "FUPGu6s7KJws"
      },
      "execution_count": null,
      "outputs": []
    },
    {
      "cell_type": "code",
      "source": [
        "'this is my week 2 class assignment'"
      ],
      "metadata": {
        "colab": {
          "base_uri": "https://localhost:8080/",
          "height": 35
        },
        "id": "qza6Mm-SL9Wr",
        "outputId": "ac6d44c1-6eea-44fb-befe-8a723cda0652"
      },
      "execution_count": null,
      "outputs": [
        {
          "output_type": "execute_result",
          "data": {
            "text/plain": [
              "'this is my week 2 class assignment'"
            ],
            "application/vnd.google.colaboratory.intrinsic+json": {
              "type": "string"
            }
          },
          "metadata": {},
          "execution_count": 37
        }
      ]
    },
    {
      "cell_type": "code",
      "source": [
        "\"this is my week 2 class assignment\""
      ],
      "metadata": {
        "colab": {
          "base_uri": "https://localhost:8080/",
          "height": 35
        },
        "id": "VGeC5DjYL9e7",
        "outputId": "3496210f-36ba-4730-e2af-3c93f3ae5516"
      },
      "execution_count": null,
      "outputs": [
        {
          "output_type": "execute_result",
          "data": {
            "text/plain": [
              "'this is my week 2 class assignment'"
            ],
            "application/vnd.google.colaboratory.intrinsic+json": {
              "type": "string"
            }
          },
          "metadata": {},
          "execution_count": 38
        }
      ]
    },
    {
      "cell_type": "code",
      "source": [
        "v2 = \"this is my week 2 class assignment\""
      ],
      "metadata": {
        "id": "Oud4go43L9hx"
      },
      "execution_count": null,
      "outputs": []
    },
    {
      "cell_type": "code",
      "source": [
        "v2"
      ],
      "metadata": {
        "colab": {
          "base_uri": "https://localhost:8080/",
          "height": 35
        },
        "id": "ar2ShqLYL9kx",
        "outputId": "2f72a0ef-f4a9-4947-f76e-22caf0bea755"
      },
      "execution_count": null,
      "outputs": [
        {
          "output_type": "execute_result",
          "data": {
            "text/plain": [
              "'this is my week 2 class assignment'"
            ],
            "application/vnd.google.colaboratory.intrinsic+json": {
              "type": "string"
            }
          },
          "metadata": {},
          "execution_count": 40
        }
      ]
    },
    {
      "cell_type": "code",
      "source": [
        "v2[8]"
      ],
      "metadata": {
        "colab": {
          "base_uri": "https://localhost:8080/",
          "height": 35
        },
        "id": "GDvINa6jL9nU",
        "outputId": "5010d2ea-9219-435d-ff3d-a111dabe2887"
      },
      "execution_count": null,
      "outputs": [
        {
          "output_type": "execute_result",
          "data": {
            "text/plain": [
              "'m'"
            ],
            "application/vnd.google.colaboratory.intrinsic+json": {
              "type": "string"
            }
          },
          "metadata": {},
          "execution_count": 41
        }
      ]
    },
    {
      "cell_type": "code",
      "source": [
        "#  \" upper Bound \" - excluding upper bound- start from 1 go till 5 but excluding upper bound so 5 willnot print as a outcome.\n",
        "\n",
        "v2[1:5]"
      ],
      "metadata": {
        "colab": {
          "base_uri": "https://localhost:8080/",
          "height": 35
        },
        "id": "4_215hkVMUXq",
        "outputId": "ce89a503-92fb-4f4a-98fe-adcaf4e1df0a"
      },
      "execution_count": null,
      "outputs": [
        {
          "output_type": "execute_result",
          "data": {
            "text/plain": [
              "'his '"
            ],
            "application/vnd.google.colaboratory.intrinsic+json": {
              "type": "string"
            }
          },
          "metadata": {},
          "execution_count": 42
        }
      ]
    },
    {
      "cell_type": "code",
      "source": [
        "v2[6:30]"
      ],
      "metadata": {
        "colab": {
          "base_uri": "https://localhost:8080/",
          "height": 35
        },
        "id": "lEhoLguyMdMN",
        "outputId": "e1c51cca-fefa-4ef1-eb3d-cc7fb6c2703c"
      },
      "execution_count": null,
      "outputs": [
        {
          "output_type": "execute_result",
          "data": {
            "text/plain": [
              "'s my week 2 class assign'"
            ],
            "application/vnd.google.colaboratory.intrinsic+json": {
              "type": "string"
            }
          },
          "metadata": {},
          "execution_count": 43
        }
      ]
    },
    {
      "cell_type": "code",
      "source": [
        "# Here start from 6 go till 30 but but alternative one I am looking over here. I am looking for after 'S' is 1step ahead.\n",
        "\n",
        "# Start from 6 go till 30 & try to take a jump of 2\n",
        "\n",
        "v2[6:30:2]"
      ],
      "metadata": {
        "colab": {
          "base_uri": "https://localhost:8080/",
          "height": 35
        },
        "id": "nUdAxRQxMidv",
        "outputId": "81c77b70-c989-433c-af8b-ecba4f98896c"
      },
      "execution_count": null,
      "outputs": [
        {
          "output_type": "execute_result",
          "data": {
            "text/plain": [
              "'sm ek2casasg'"
            ],
            "application/vnd.google.colaboratory.intrinsic+json": {
              "type": "string"
            }
          },
          "metadata": {},
          "execution_count": 44
        }
      ]
    },
    {
      "cell_type": "code",
      "source": [
        "v = \"vijaygurung\""
      ],
      "metadata": {
        "id": "NhffQdAWMmvN"
      },
      "execution_count": null,
      "outputs": []
    },
    {
      "cell_type": "code",
      "source": [
        "v[0:10:2]"
      ],
      "metadata": {
        "colab": {
          "base_uri": "https://localhost:8080/",
          "height": 35
        },
        "id": "VIZI-sAvNSs7",
        "outputId": "d53f660c-8ef8-48b9-a6c9-e2065da03751"
      },
      "execution_count": null,
      "outputs": [
        {
          "output_type": "execute_result",
          "data": {
            "text/plain": [
              "'vjyuu'"
            ],
            "application/vnd.google.colaboratory.intrinsic+json": {
              "type": "string"
            }
          },
          "metadata": {},
          "execution_count": 46
        }
      ]
    },
    {
      "cell_type": "code",
      "source": [
        "# In this code there is one difference, As a outcome we will get entire data complete dataset\n",
        "\n",
        "# Here jump size is equal to 1. By default \"0\" zero can't be jump size because we have to move."
      ],
      "metadata": {
        "id": "9uv2I-SoNTu0"
      },
      "execution_count": null,
      "outputs": []
    },
    {
      "cell_type": "code",
      "source": [
        "v[0:11:1]"
      ],
      "metadata": {
        "colab": {
          "base_uri": "https://localhost:8080/",
          "height": 35
        },
        "id": "YFpnNtK8NWu0",
        "outputId": "218f3761-cde3-4c26-ac31-8597db8ef9d6"
      },
      "execution_count": null,
      "outputs": [
        {
          "output_type": "execute_result",
          "data": {
            "text/plain": [
              "'vijaygurung'"
            ],
            "application/vnd.google.colaboratory.intrinsic+json": {
              "type": "string"
            }
          },
          "metadata": {},
          "execution_count": 47
        }
      ]
    },
    {
      "cell_type": "code",
      "source": [
        "# Here we have written start from \"0\" zero & go till 10th positive direction & try to take a jump of -1 towards negative\n",
        "# direction, because of these it create a contradiction over here.Beacuse of contradiction I am not geeting any dataset.So that\n",
        "# is the region we are geeting an as outcome blank nothing.\n",
        "\n",
        "# As a outcome we will receive blank, string so it has forward direction as well as backward direction.\n",
        "\n",
        "v[0:10:-1]"
      ],
      "metadata": {
        "colab": {
          "base_uri": "https://localhost:8080/",
          "height": 35
        },
        "id": "uig3InikNWxX",
        "outputId": "9c36733e-222c-4675-a7cf-7daff93fa484"
      },
      "execution_count": null,
      "outputs": [
        {
          "output_type": "execute_result",
          "data": {
            "text/plain": [
              "''"
            ],
            "application/vnd.google.colaboratory.intrinsic+json": {
              "type": "string"
            }
          },
          "metadata": {},
          "execution_count": 48
        }
      ]
    },
    {
      "cell_type": "code",
      "source": [
        "v"
      ],
      "metadata": {
        "colab": {
          "base_uri": "https://localhost:8080/",
          "height": 35
        },
        "id": "gNE7qIPRNW0b",
        "outputId": "c70d623c-e40d-4bee-8fb2-b452def6f0aa"
      },
      "execution_count": null,
      "outputs": [
        {
          "output_type": "execute_result",
          "data": {
            "text/plain": [
              "'vijaygurung'"
            ],
            "application/vnd.google.colaboratory.intrinsic+json": {
              "type": "string"
            }
          },
          "metadata": {},
          "execution_count": 49
        }
      ]
    },
    {
      "cell_type": "code",
      "source": [
        "v[10:0:-1]"
      ],
      "metadata": {
        "colab": {
          "base_uri": "https://localhost:8080/",
          "height": 35
        },
        "id": "9FnNBIrbNW3B",
        "outputId": "0f57d6a5-1cb0-484f-80ad-6b63e780b2db"
      },
      "execution_count": null,
      "outputs": [
        {
          "output_type": "execute_result",
          "data": {
            "text/plain": [
              "'gnurugyaji'"
            ],
            "application/vnd.google.colaboratory.intrinsic+json": {
              "type": "string"
            }
          },
          "metadata": {},
          "execution_count": 50
        }
      ]
    },
    {
      "cell_type": "code",
      "source": [
        "v[10:0:-2]"
      ],
      "metadata": {
        "colab": {
          "base_uri": "https://localhost:8080/",
          "height": 35
        },
        "id": "qX2q-VR3Nkk0",
        "outputId": "96d34f70-f55e-4ef6-9a6f-ee5182953d2d"
      },
      "execution_count": null,
      "outputs": [
        {
          "output_type": "execute_result",
          "data": {
            "text/plain": [
              "'guuyj'"
            ],
            "application/vnd.google.colaboratory.intrinsic+json": {
              "type": "string"
            }
          },
          "metadata": {},
          "execution_count": 51
        }
      ]
    },
    {
      "cell_type": "code",
      "source": [
        "# Here is I have not given starting point.only Given end point.I have also not given jump size.But still I am geeting dataset.\n",
        "\n",
        "# Because in these scenario my jump size will be (+1). Here from \"v\" upto \"r\" only it will print 0 upto -4.\n",
        "\n",
        "v[:-3]"
      ],
      "metadata": {
        "colab": {
          "base_uri": "https://localhost:8080/",
          "height": 35
        },
        "id": "BRMSlNqpNm9D",
        "outputId": "a68d4ff1-4f37-4c99-cab7-1769d6d38100"
      },
      "execution_count": null,
      "outputs": [
        {
          "output_type": "execute_result",
          "data": {
            "text/plain": [
              "'vijaygur'"
            ],
            "application/vnd.google.colaboratory.intrinsic+json": {
              "type": "string"
            }
          },
          "metadata": {},
          "execution_count": 52
        }
      ]
    },
    {
      "cell_type": "code",
      "source": [
        "v[-2:]"
      ],
      "metadata": {
        "colab": {
          "base_uri": "https://localhost:8080/",
          "height": 35
        },
        "id": "xjlPn0hKNrm1",
        "outputId": "071f6ade-7491-4e4c-fa5d-7b5ad2dbcbca"
      },
      "execution_count": null,
      "outputs": [
        {
          "output_type": "execute_result",
          "data": {
            "text/plain": [
              "'ng'"
            ],
            "application/vnd.google.colaboratory.intrinsic+json": {
              "type": "string"
            }
          },
          "metadata": {},
          "execution_count": 53
        }
      ]
    },
    {
      "cell_type": "code",
      "source": [
        "v[::1]"
      ],
      "metadata": {
        "colab": {
          "base_uri": "https://localhost:8080/",
          "height": 35
        },
        "id": "rCx-XcUlNtUO",
        "outputId": "6b7be069-5bd2-415d-f7b6-4a538352d55a"
      },
      "execution_count": null,
      "outputs": [
        {
          "output_type": "execute_result",
          "data": {
            "text/plain": [
              "'vijaygurung'"
            ],
            "application/vnd.google.colaboratory.intrinsic+json": {
              "type": "string"
            }
          },
          "metadata": {},
          "execution_count": 54
        }
      ]
    },
    {
      "cell_type": "code",
      "source": [
        "v[::-1]"
      ],
      "metadata": {
        "colab": {
          "base_uri": "https://localhost:8080/",
          "height": 35
        },
        "id": "NbpwRbqzNvBG",
        "outputId": "255a1c57-c1a8-45d5-bbf9-c64601744735"
      },
      "execution_count": null,
      "outputs": [
        {
          "output_type": "execute_result",
          "data": {
            "text/plain": [
              "'gnurugyajiv'"
            ],
            "application/vnd.google.colaboratory.intrinsic+json": {
              "type": "string"
            }
          },
          "metadata": {},
          "execution_count": 55
        }
      ]
    },
    {
      "cell_type": "code",
      "source": [
        "v[0:50:1]"
      ],
      "metadata": {
        "colab": {
          "base_uri": "https://localhost:8080/",
          "height": 35
        },
        "id": "tKQqD4LQNxN6",
        "outputId": "b40950bb-0dee-47d9-ff7b-0297a93a8b74"
      },
      "execution_count": null,
      "outputs": [
        {
          "output_type": "execute_result",
          "data": {
            "text/plain": [
              "'vijaygurung'"
            ],
            "application/vnd.google.colaboratory.intrinsic+json": {
              "type": "string"
            }
          },
          "metadata": {},
          "execution_count": 56
        }
      ]
    },
    {
      "cell_type": "code",
      "source": [
        "v2"
      ],
      "metadata": {
        "colab": {
          "base_uri": "https://localhost:8080/",
          "height": 35
        },
        "id": "KSi0y0VmNzGl",
        "outputId": "b864b659-cce1-4ed4-a629-2b56be353261"
      },
      "execution_count": null,
      "outputs": [
        {
          "output_type": "execute_result",
          "data": {
            "text/plain": [
              "'this is my week 2 class assignment'"
            ],
            "application/vnd.google.colaboratory.intrinsic+json": {
              "type": "string"
            }
          },
          "metadata": {},
          "execution_count": 57
        }
      ]
    },
    {
      "cell_type": "code",
      "source": [
        "v2[::-1]"
      ],
      "metadata": {
        "colab": {
          "base_uri": "https://localhost:8080/",
          "height": 35
        },
        "id": "f5KLmO70N0uR",
        "outputId": "c5801c9b-b5bd-407e-aef2-5af36c2a475b"
      },
      "execution_count": null,
      "outputs": [
        {
          "output_type": "execute_result",
          "data": {
            "text/plain": [
              "'tnemngissa ssalc 2 keew ym si siht'"
            ],
            "application/vnd.google.colaboratory.intrinsic+json": {
              "type": "string"
            }
          },
          "metadata": {},
          "execution_count": 58
        }
      ]
    },
    {
      "cell_type": "code",
      "source": [
        "v3 = \"metascifor\""
      ],
      "metadata": {
        "id": "FN6r3S1KN2rJ"
      },
      "execution_count": null,
      "outputs": []
    },
    {
      "cell_type": "code",
      "source": [
        "v3[-2:-7:1]"
      ],
      "metadata": {
        "colab": {
          "base_uri": "https://localhost:8080/",
          "height": 35
        },
        "id": "3pKIYVHlO_W7",
        "outputId": "62d8ce9d-acf6-40cd-8084-20b6bb672f9f"
      },
      "execution_count": null,
      "outputs": [
        {
          "output_type": "execute_result",
          "data": {
            "text/plain": [
              "''"
            ],
            "application/vnd.google.colaboratory.intrinsic+json": {
              "type": "string"
            }
          },
          "metadata": {},
          "execution_count": 60
        }
      ]
    },
    {
      "cell_type": "code",
      "source": [
        "v3[-7:-2:1]"
      ],
      "metadata": {
        "colab": {
          "base_uri": "https://localhost:8080/",
          "height": 35
        },
        "id": "q26bVU0HPBKA",
        "outputId": "e78c19c1-a63b-47d6-ac3a-5b1e6edaeed6"
      },
      "execution_count": null,
      "outputs": [
        {
          "output_type": "execute_result",
          "data": {
            "text/plain": [
              "'ascif'"
            ],
            "application/vnd.google.colaboratory.intrinsic+json": {
              "type": "string"
            }
          },
          "metadata": {},
          "execution_count": 61
        }
      ]
    },
    {
      "cell_type": "code",
      "source": [
        "v"
      ],
      "metadata": {
        "colab": {
          "base_uri": "https://localhost:8080/",
          "height": 35
        },
        "id": "jAs9r6J1PDLn",
        "outputId": "fa03960d-a62c-4b99-b6e8-d57c06026324"
      },
      "execution_count": null,
      "outputs": [
        {
          "output_type": "execute_result",
          "data": {
            "text/plain": [
              "'vijaygurung'"
            ],
            "application/vnd.google.colaboratory.intrinsic+json": {
              "type": "string"
            }
          },
          "metadata": {},
          "execution_count": 62
        }
      ]
    },
    {
      "cell_type": "code",
      "source": [
        "v[5:0]"
      ],
      "metadata": {
        "colab": {
          "base_uri": "https://localhost:8080/",
          "height": 35
        },
        "id": "IKMqTzXGPEri",
        "outputId": "9fad693b-a633-45ff-f330-5bab758fd2dd"
      },
      "execution_count": null,
      "outputs": [
        {
          "output_type": "execute_result",
          "data": {
            "text/plain": [
              "''"
            ],
            "application/vnd.google.colaboratory.intrinsic+json": {
              "type": "string"
            }
          },
          "metadata": {},
          "execution_count": 63
        }
      ]
    },
    {
      "cell_type": "code",
      "source": [
        "v3[-7:0:1]"
      ],
      "metadata": {
        "colab": {
          "base_uri": "https://localhost:8080/",
          "height": 35
        },
        "id": "XhB73qlNPGyH",
        "outputId": "fea14a2f-9433-4eee-be59-7c162117b588"
      },
      "execution_count": null,
      "outputs": [
        {
          "output_type": "execute_result",
          "data": {
            "text/plain": [
              "''"
            ],
            "application/vnd.google.colaboratory.intrinsic+json": {
              "type": "string"
            }
          },
          "metadata": {},
          "execution_count": 64
        }
      ]
    },
    {
      "cell_type": "code",
      "source": [
        "v"
      ],
      "metadata": {
        "colab": {
          "base_uri": "https://localhost:8080/",
          "height": 35
        },
        "id": "jOHshoqLPKQ9",
        "outputId": "1e5ae89b-1feb-41d9-f4a0-86fcce6cec89"
      },
      "execution_count": null,
      "outputs": [
        {
          "output_type": "execute_result",
          "data": {
            "text/plain": [
              "'vijaygurung'"
            ],
            "application/vnd.google.colaboratory.intrinsic+json": {
              "type": "string"
            }
          },
          "metadata": {},
          "execution_count": 65
        }
      ]
    },
    {
      "cell_type": "code",
      "source": [
        "v[:-1:-1]"
      ],
      "metadata": {
        "colab": {
          "base_uri": "https://localhost:8080/",
          "height": 35
        },
        "id": "kzxeb-6KPMLn",
        "outputId": "8966b24b-847d-47a7-c7d1-679c89de3156"
      },
      "execution_count": null,
      "outputs": [
        {
          "output_type": "execute_result",
          "data": {
            "text/plain": [
              "''"
            ],
            "application/vnd.google.colaboratory.intrinsic+json": {
              "type": "string"
            }
          },
          "metadata": {},
          "execution_count": 66
        }
      ]
    },
    {
      "cell_type": "code",
      "source": [
        "v+1"
      ],
      "metadata": {
        "colab": {
          "base_uri": "https://localhost:8080/",
          "height": 144
        },
        "id": "-EysTxDlPN7p",
        "outputId": "20b7b368-87a5-403e-e00d-fc2e9527b8fb"
      },
      "execution_count": null,
      "outputs": [
        {
          "output_type": "error",
          "ename": "TypeError",
          "evalue": "can only concatenate str (not \"int\") to str",
          "traceback": [
            "\u001b[0;31m---------------------------------------------------------------------------\u001b[0m",
            "\u001b[0;31mTypeError\u001b[0m                                 Traceback (most recent call last)",
            "\u001b[0;32m<ipython-input-67-a8113876cc72>\u001b[0m in \u001b[0;36m<cell line: 1>\u001b[0;34m()\u001b[0m\n\u001b[0;32m----> 1\u001b[0;31m \u001b[0mv\u001b[0m\u001b[0;34m+\u001b[0m\u001b[0;36m1\u001b[0m\u001b[0;34m\u001b[0m\u001b[0;34m\u001b[0m\u001b[0m\n\u001b[0m",
            "\u001b[0;31mTypeError\u001b[0m: can only concatenate str (not \"int\") to str"
          ]
        }
      ]
    },
    {
      "cell_type": "code",
      "source": [
        "v+\"1\""
      ],
      "metadata": {
        "colab": {
          "base_uri": "https://localhost:8080/",
          "height": 35
        },
        "id": "_jU8J8wSPQlR",
        "outputId": "c907473f-23ca-4b8f-f482-af0d1dc46c27"
      },
      "execution_count": null,
      "outputs": [
        {
          "output_type": "execute_result",
          "data": {
            "text/plain": [
              "'vijaygurung1'"
            ],
            "application/vnd.google.colaboratory.intrinsic+json": {
              "type": "string"
            }
          },
          "metadata": {},
          "execution_count": 68
        }
      ]
    },
    {
      "cell_type": "code",
      "source": [
        "v + str(1)"
      ],
      "metadata": {
        "colab": {
          "base_uri": "https://localhost:8080/",
          "height": 35
        },
        "id": "KmtoZKB-PSy2",
        "outputId": "5325e3fe-933f-4dc8-b8d0-bef4525ce528"
      },
      "execution_count": null,
      "outputs": [
        {
          "output_type": "execute_result",
          "data": {
            "text/plain": [
              "'vijaygurung1'"
            ],
            "application/vnd.google.colaboratory.intrinsic+json": {
              "type": "string"
            }
          },
          "metadata": {},
          "execution_count": 69
        }
      ]
    },
    {
      "cell_type": "code",
      "source": [
        "\"vijay\" + 4567894258"
      ],
      "metadata": {
        "colab": {
          "base_uri": "https://localhost:8080/",
          "height": 144
        },
        "id": "HkVDs2zUPVOv",
        "outputId": "f118382f-d405-495a-c0d1-9228253688da"
      },
      "execution_count": null,
      "outputs": [
        {
          "output_type": "error",
          "ename": "TypeError",
          "evalue": "can only concatenate str (not \"int\") to str",
          "traceback": [
            "\u001b[0;31m---------------------------------------------------------------------------\u001b[0m",
            "\u001b[0;31mTypeError\u001b[0m                                 Traceback (most recent call last)",
            "\u001b[0;32m<ipython-input-70-c8b55f1b1134>\u001b[0m in \u001b[0;36m<cell line: 1>\u001b[0;34m()\u001b[0m\n\u001b[0;32m----> 1\u001b[0;31m \u001b[0;34m\"vijay\"\u001b[0m \u001b[0;34m+\u001b[0m \u001b[0;36m4567894258\u001b[0m\u001b[0;34m\u001b[0m\u001b[0;34m\u001b[0m\u001b[0m\n\u001b[0m",
            "\u001b[0;31mTypeError\u001b[0m: can only concatenate str (not \"int\") to str"
          ]
        }
      ]
    },
    {
      "cell_type": "code",
      "source": [
        "v"
      ],
      "metadata": {
        "colab": {
          "base_uri": "https://localhost:8080/",
          "height": 35
        },
        "id": "BnCQnFcnPXot",
        "outputId": "1079f7b4-7050-4dba-8273-39714464a57d"
      },
      "execution_count": null,
      "outputs": [
        {
          "output_type": "execute_result",
          "data": {
            "text/plain": [
              "'vijaygurung'"
            ],
            "application/vnd.google.colaboratory.intrinsic+json": {
              "type": "string"
            }
          },
          "metadata": {},
          "execution_count": 71
        }
      ]
    },
    {
      "cell_type": "code",
      "source": [
        "#Length, Len & Function"
      ],
      "metadata": {
        "id": "53oedFxYPZFu"
      },
      "execution_count": null,
      "outputs": []
    },
    {
      "cell_type": "code",
      "source": [
        "len(v)"
      ],
      "metadata": {
        "colab": {
          "base_uri": "https://localhost:8080/"
        },
        "id": "E3dm0m9aPd8P",
        "outputId": "c48922cd-56ba-441c-ec5e-2514c839d0ff"
      },
      "execution_count": null,
      "outputs": [
        {
          "output_type": "execute_result",
          "data": {
            "text/plain": [
              "11"
            ]
          },
          "metadata": {},
          "execution_count": 73
        }
      ]
    },
    {
      "cell_type": "code",
      "source": [
        "# Multiplication Operation"
      ],
      "metadata": {
        "id": "5FWHR-vYPfOm"
      },
      "execution_count": null,
      "outputs": []
    },
    {
      "cell_type": "code",
      "source": [
        "v*2"
      ],
      "metadata": {
        "colab": {
          "base_uri": "https://localhost:8080/",
          "height": 35
        },
        "id": "6ZtozEA2PhKS",
        "outputId": "7afac0a2-8a9b-4dd0-ecef-2a579bb540c3"
      },
      "execution_count": null,
      "outputs": [
        {
          "output_type": "execute_result",
          "data": {
            "text/plain": [
              "'vijaygurungvijaygurung'"
            ],
            "application/vnd.google.colaboratory.intrinsic+json": {
              "type": "string"
            }
          },
          "metadata": {},
          "execution_count": 76
        }
      ]
    },
    {
      "cell_type": "code",
      "source": [
        "#Function"
      ],
      "metadata": {
        "id": "QE7JzubaPj8i"
      },
      "execution_count": null,
      "outputs": []
    },
    {
      "cell_type": "code",
      "source": [
        "v"
      ],
      "metadata": {
        "colab": {
          "base_uri": "https://localhost:8080/",
          "height": 35
        },
        "id": "0RoDna8aPlpn",
        "outputId": "0faea4c2-434d-4249-cb6d-016a0c7c7944"
      },
      "execution_count": null,
      "outputs": [
        {
          "output_type": "execute_result",
          "data": {
            "text/plain": [
              "'vijaygurung'"
            ],
            "application/vnd.google.colaboratory.intrinsic+json": {
              "type": "string"
            }
          },
          "metadata": {},
          "execution_count": 78
        }
      ]
    },
    {
      "cell_type": "code",
      "source": [
        "#                                                                  [ \"Function\" inside String ]\n",
        "\n",
        "# We have total 43 Functions are available\n",
        "\n",
        "# 1.Capitalize\n",
        "\n",
        "# 2.Casefold\n",
        "\n",
        "# 3.Center\n",
        "\n",
        "# 4.count\n",
        "\n",
        "# 5.Encode\n",
        "\n",
        "# 6.endswitch\n",
        "\n",
        "# 7.Expantabs\n",
        "\n",
        "# 8.Find\n",
        "\n",
        "# 9.Format\n",
        "\n",
        "# 10.Format_Map\n",
        "\n",
        "# 11.Index\n",
        "\n",
        "# 12.isalnum\n",
        "\n",
        "# 13.isalpha\n",
        "\n",
        "# 14.isascii\n",
        "\n",
        "# 15.isdecimal\n",
        "\n",
        "# 16.isdigit\n",
        "\n",
        "# 17.isidentifier\n",
        "\n",
        "# 18.isprintable\n",
        "\n",
        "# 19.isspace\n",
        "\n",
        "# 20.istitle\n",
        "\n",
        "# 21.isupper\n",
        "\n",
        "# 22.join\n",
        "\n",
        "# 23.Ljust\n",
        "\n",
        "# 24.Lower\n",
        "\n",
        "# 25.Lstrip\n",
        "\n",
        "# 26.Maketrans\n",
        "\n",
        "# 27.Partition\n",
        "\n",
        "# 28.Replace\n",
        "\n",
        "# 29.Rfind\n",
        "\n",
        "# 30.Rindex\n",
        "\n",
        "# 31.Rjust\n",
        "\n",
        "# 32.Rpartition\n",
        "\n",
        "# 33.Rsplit\n",
        "\n",
        "# 34.RStrip\n",
        "\n",
        "# 35.Split\n",
        "\n",
        "# 36.SplitLines\n",
        "\n",
        "# 37.StartSwith\n",
        "\n",
        "# 38.Strip\n",
        "\n",
        "# 39.Swapcase\n",
        "\n",
        "# 40.Title\n",
        "\n",
        "# 41.Translate\n",
        "\n",
        "# 42.Upper\n",
        "\n",
        "# 43.Zfill"
      ],
      "metadata": {
        "id": "_j_rZ6MjPmzK"
      },
      "execution_count": null,
      "outputs": []
    },
    {
      "cell_type": "code",
      "source": [
        "v"
      ],
      "metadata": {
        "colab": {
          "base_uri": "https://localhost:8080/",
          "height": 35
        },
        "id": "KG_qVyE9PuBV",
        "outputId": "ae9ccc48-00f4-4a00-cd8d-f449d8cdff64"
      },
      "execution_count": null,
      "outputs": [
        {
          "output_type": "execute_result",
          "data": {
            "text/plain": [
              "'vijaygurung'"
            ],
            "application/vnd.google.colaboratory.intrinsic+json": {
              "type": "string"
            }
          },
          "metadata": {},
          "execution_count": 79
        }
      ]
    },
    {
      "cell_type": "code",
      "source": [
        "#                                                                4.\"Count\"\n",
        "\n",
        "#  ( If i will call \"g\" it will check inside string how many times \"g\" words is there inside string)"
      ],
      "metadata": {
        "id": "T1eqPvBRPuEG"
      },
      "execution_count": null,
      "outputs": []
    },
    {
      "cell_type": "code",
      "source": [
        "v.count(\"g\")"
      ],
      "metadata": {
        "colab": {
          "base_uri": "https://localhost:8080/"
        },
        "id": "GcXbIaE7PuHM",
        "outputId": "0ea9ecb8-1155-4e4f-ba3d-93b8b4ebeba1"
      },
      "execution_count": null,
      "outputs": [
        {
          "output_type": "execute_result",
          "data": {
            "text/plain": [
              "2"
            ]
          },
          "metadata": {},
          "execution_count": 80
        }
      ]
    },
    {
      "cell_type": "code",
      "source": [
        "v.count(\"vi\")"
      ],
      "metadata": {
        "colab": {
          "base_uri": "https://localhost:8080/"
        },
        "id": "MJPup0XzPuMe",
        "outputId": "63cf613b-be48-4ae7-f96b-705b4c99ee13"
      },
      "execution_count": null,
      "outputs": [
        {
          "output_type": "execute_result",
          "data": {
            "text/plain": [
              "1"
            ]
          },
          "metadata": {},
          "execution_count": 81
        }
      ]
    },
    {
      "cell_type": "code",
      "source": [
        "v.count(\"vir\")"
      ],
      "metadata": {
        "colab": {
          "base_uri": "https://localhost:8080/"
        },
        "id": "eKM3CsmLPuPe",
        "outputId": "b67a2fd7-7008-4e3a-c4fd-fdb361bcdf4d"
      },
      "execution_count": null,
      "outputs": [
        {
          "output_type": "execute_result",
          "data": {
            "text/plain": [
              "0"
            ]
          },
          "metadata": {},
          "execution_count": 82
        }
      ]
    },
    {
      "cell_type": "code",
      "source": [
        "#                                                                      35.\"Split\"\n",
        "\n",
        "# ( It will going to give an \"List variable\". So whatever will come after \"g\" & inbetween \"g\" & before \"g\"\n",
        "#                     it will going to give that as a seperate data spliting that data from the string(str))"
      ],
      "metadata": {
        "id": "Dv_K7KUtRd8I"
      },
      "execution_count": null,
      "outputs": []
    },
    {
      "cell_type": "code",
      "source": [
        "v.split(\"g\")\n",
        "type(v.split(\"g\"))"
      ],
      "metadata": {
        "colab": {
          "base_uri": "https://localhost:8080/"
        },
        "id": "iOMoMFd8Rn0Z",
        "outputId": "dc739498-46d2-48cd-aa1f-631ad70ad839"
      },
      "execution_count": null,
      "outputs": [
        {
          "output_type": "execute_result",
          "data": {
            "text/plain": [
              "list"
            ]
          },
          "metadata": {},
          "execution_count": 84
        }
      ]
    },
    {
      "cell_type": "code",
      "source": [
        "v.split(\"g\")"
      ],
      "metadata": {
        "colab": {
          "base_uri": "https://localhost:8080/"
        },
        "id": "2V-0TuicRog0",
        "outputId": "2fa60c0c-408b-4053-b69d-7ad9d4627077"
      },
      "execution_count": null,
      "outputs": [
        {
          "output_type": "execute_result",
          "data": {
            "text/plain": [
              "['vijay', 'urun', '']"
            ]
          },
          "metadata": {},
          "execution_count": 85
        }
      ]
    },
    {
      "cell_type": "markdown",
      "source": [],
      "metadata": {
        "id": "vahI7IN9R6V-"
      }
    },
    {
      "cell_type": "code",
      "source": [
        " #                                                                 \"Single Couch\" (' ')\n",
        "\n",
        "\n",
        " sw = 'Samsung Group,[3] or simply Samsung (Korean: 삼성; RR: samseong [samsʌŋ]) (stylized as SΛMSUNG), is a South Korean multinational manufacturing conglomerate headquartered in Samsung Town, Seoul, South Korea.[1] It comprises numerous affiliated businesses,[1] most of them united under the Samsung brand, and is the largest South Korean chaebol (business conglomerate). As of 2020, Samsung has the eighth highest global brand value.[4]\n",
        "\n",
        "Samsung was founded by Lee Byung-chul in 1938 as a trading company. Over the next three decades, the group diversified into areas including food processing, textiles, insurance, securities, and retail. Samsung entered the electronics industry in the late 1960s and the construction and shipbuilding industries in the mid-1970s; these areas would drive its subsequent growth. Following Lee's death in 1987, Samsung was separated into five business groups – Samsung Group, Shinsegae Group, CJ Group and Hansol Group, and JoongAng Group.\n",
        "\n",
        "Notable Samsung industrial affiliates include Samsung Electronics (the world's largest information technology company, consumer electronics maker and chipmaker measured by 2017 revenues),[5][6] Samsung Heavy Industries (the world's second largest shipbuilder measured by 2010 revenues),[7] and Samsung Engineering and Samsung C&T Corporation (respectively the world's 13th and 36th largest construction companies).[8] Other notable subsidiaries include Samsung Life Insurance (the world's 14th largest life insurance company),[9] Samsung Everland (operator of Everland Resort, the oldest theme park in South Korea)[10] and Cheil Worldwide (the world's 15th largest advertising agency, as measured by 2012 revenues'"
      ],
      "metadata": {
        "colab": {
          "base_uri": "https://localhost:8080/",
          "height": 144
        },
        "id": "LCdevKfdRqJ6",
        "outputId": "efa0aaf1-8c18-4a34-93d3-718ef8228004"
      },
      "execution_count": null,
      "outputs": [
        {
          "output_type": "error",
          "ename": "SyntaxError",
          "evalue": "unterminated string literal (detected at line 4) (<ipython-input-86-5517dcf8dee3>, line 4)",
          "traceback": [
            "\u001b[0;36m  File \u001b[0;32m\"<ipython-input-86-5517dcf8dee3>\"\u001b[0;36m, line \u001b[0;32m4\u001b[0m\n\u001b[0;31m    sw = 'Samsung Group,[3] or simply Samsung (Korean: 삼성; RR: samseong [samsʌŋ]) (stylized as SΛMSUNG), is a South Korean multinational manufacturing conglomerate headquartered in Samsung Town, Seoul, South Korea.[1] It comprises numerous affiliated businesses,[1] most of them united under the Samsung brand, and is the largest South Korean chaebol (business conglomerate). As of 2020, Samsung has the eighth highest global brand value.[4]\u001b[0m\n\u001b[0m         ^\u001b[0m\n\u001b[0;31mSyntaxError\u001b[0m\u001b[0;31m:\u001b[0m unterminated string literal (detected at line 4)\n"
          ]
        }
      ]
    },
    {
      "cell_type": "code",
      "source": [
        "                                                                 #Double Couch (\" \")\n",
        "\n",
        "sw = \"Samsung Group,[3] or simply Samsung (Korean: 삼성; RR: samseong [samsʌŋ]) (stylized as SΛMSUNG), is a South Korean multinational manufacturing conglomerate headquartered in Samsung Town, Seoul, South Korea.[1] It comprises numerous affiliated businesses,[1] most of them united under the Samsung brand, and is the largest South Korean chaebol (business conglomerate). As of 2020, Samsung has the eighth highest global brand value.[4]\n",
        "\n",
        "Samsung was founded by Lee Byung-chul in 1938 as a trading company. Over the next three decades, the group diversified into areas including food processing, textiles, insurance, securities, and retail. Samsung entered the electronics industry in the late 1960s and the construction and shipbuilding industries in the mid-1970s; these areas would drive its subsequent growth. Following Lee's death in 1987, Samsung was separated into five business groups – Samsung Group, Shinsegae Group, CJ Group and Hansol Group, and JoongAng Group.\n",
        "\n",
        "Notable Samsung industrial affiliates include Samsung Electronics (the world's largest information technology company, consumer electronics maker and chipmaker measured by 2017 revenues),[5][6] Samsung Heavy Industries (the world's second largest shipbuilder measured by 2010 revenues),[7] and Samsung Engineering and Samsung C&T Corporation (respectively the world's 13th and 36th largest construction companies).[8] Other notable subsidiaries include Samsung Life Insurance (the world's 14th largest life insurance company),[9] Samsung Everland (operator of Everland Resort, the oldest theme park in South Korea)[10] and Cheil Worldwide (the world's 15th largest advertising agency, as measured by 2012 revenues\""
      ],
      "metadata": {
        "colab": {
          "base_uri": "https://localhost:8080/",
          "height": 144
        },
        "id": "AmWmL9xZR0W5",
        "outputId": "dcc8dc1f-f89f-412d-98a0-5013d7331153"
      },
      "execution_count": null,
      "outputs": [
        {
          "output_type": "error",
          "ename": "SyntaxError",
          "evalue": "unterminated string literal (detected at line 3) (<ipython-input-87-f80eae889661>, line 3)",
          "traceback": [
            "\u001b[0;36m  File \u001b[0;32m\"<ipython-input-87-f80eae889661>\"\u001b[0;36m, line \u001b[0;32m3\u001b[0m\n\u001b[0;31m    sw = \"Samsung Group,[3] or simply Samsung (Korean: 삼성; RR: samseong [samsʌŋ]) (stylized as SΛMSUNG), is a South Korean multinational manufacturing conglomerate headquartered in Samsung Town, Seoul, South Korea.[1] It comprises numerous affiliated businesses,[1] most of them united under the Samsung brand, and is the largest South Korean chaebol (business conglomerate). As of 2020, Samsung has the eighth highest global brand value.[4]\u001b[0m\n\u001b[0m         ^\u001b[0m\n\u001b[0;31mSyntaxError\u001b[0m\u001b[0;31m:\u001b[0m unterminated string literal (detected at line 3)\n"
          ]
        }
      ]
    },
    {
      "cell_type": "code",
      "source": [
        "sw = (\"Samsung Group,[3] or simply Samsung (Korean: 삼성; RR: samseong [samsʌŋ]) (stylized as SΛMSUNG), is a South Korean multinational manufacturing conglomerate headquartered in Samsung Town, Seoul, South Korea\")"
      ],
      "metadata": {
        "id": "Cuja45wVR0fp"
      },
      "execution_count": null,
      "outputs": []
    },
    {
      "cell_type": "code",
      "source": [
        "sw.split(' ')"
      ],
      "metadata": {
        "colab": {
          "base_uri": "https://localhost:8080/"
        },
        "id": "XM-N6k8lR0iT",
        "outputId": "e0491cbf-58a7-46c3-ecc5-6e28f1e85120"
      },
      "execution_count": null,
      "outputs": [
        {
          "output_type": "execute_result",
          "data": {
            "text/plain": [
              "['Samsung',\n",
              " 'Group,[3]',\n",
              " 'or',\n",
              " 'simply',\n",
              " 'Samsung',\n",
              " '(Korean:',\n",
              " '삼성;',\n",
              " 'RR:',\n",
              " 'samseong',\n",
              " '[samsʌŋ])',\n",
              " '(stylized',\n",
              " 'as',\n",
              " 'SΛMSUNG),',\n",
              " 'is',\n",
              " 'a',\n",
              " 'South',\n",
              " 'Korean',\n",
              " 'multinational',\n",
              " 'manufacturing',\n",
              " 'conglomerate',\n",
              " 'headquartered',\n",
              " 'in',\n",
              " 'Samsung',\n",
              " 'Town,',\n",
              " 'Seoul,',\n",
              " 'South',\n",
              " 'Korea']"
            ]
          },
          "metadata": {},
          "execution_count": 89
        }
      ]
    },
    {
      "cell_type": "code",
      "source": [
        "#                                                                             42.\"UPPER CASES\"\n",
        "\n",
        "# ( Upper case what it will do it will convert all sentences into a \"Capital Letter\" )\n"
      ],
      "metadata": {
        "id": "CLjLwMI8R0lR"
      },
      "execution_count": null,
      "outputs": []
    },
    {
      "cell_type": "code",
      "source": [
        "sw"
      ],
      "metadata": {
        "colab": {
          "base_uri": "https://localhost:8080/",
          "height": 53
        },
        "id": "5DIZBQmDR0oH",
        "outputId": "642f7e78-21b0-4c39-c6f4-8ce3bcb1824d"
      },
      "execution_count": null,
      "outputs": [
        {
          "output_type": "execute_result",
          "data": {
            "text/plain": [
              "'Samsung Group,[3] or simply Samsung (Korean: 삼성; RR: samseong [samsʌŋ]) (stylized as SΛMSUNG), is a South Korean multinational manufacturing conglomerate headquartered in Samsung Town, Seoul, South Korea'"
            ],
            "application/vnd.google.colaboratory.intrinsic+json": {
              "type": "string"
            }
          },
          "metadata": {},
          "execution_count": 90
        }
      ]
    },
    {
      "cell_type": "code",
      "source": [
        "sw.upper()"
      ],
      "metadata": {
        "colab": {
          "base_uri": "https://localhost:8080/",
          "height": 53
        },
        "id": "tIkvbp6vR0rb",
        "outputId": "59a06a5a-69b5-45af-8d2b-1abf941bf6b3"
      },
      "execution_count": null,
      "outputs": [
        {
          "output_type": "execute_result",
          "data": {
            "text/plain": [
              "'SAMSUNG GROUP,[3] OR SIMPLY SAMSUNG (KOREAN: 삼성; RR: SAMSEONG [SAMSɅŊ]) (STYLIZED AS SΛMSUNG), IS A SOUTH KOREAN MULTINATIONAL MANUFACTURING CONGLOMERATE HEADQUARTERED IN SAMSUNG TOWN, SEOUL, SOUTH KOREA'"
            ],
            "application/vnd.google.colaboratory.intrinsic+json": {
              "type": "string"
            }
          },
          "metadata": {},
          "execution_count": 91
        }
      ]
    },
    {
      "cell_type": "code",
      "source": [
        "# Upper Cases Reassignment\n",
        "# If i have to write my entire string (str) that case I would like to store this entire converted string in that case\n",
        "#we can do a reassignment. Because here I am going to write sw = equal is used for the reassignment operation.\n",
        "#If I have to assign my orginal variable with a new variable which is a upper case that case I would like to call.\n",
        "\n",
        "                                                    # sw = sw.upper()"
      ],
      "metadata": {
        "id": "5iZEtNFhTUyI"
      },
      "execution_count": null,
      "outputs": []
    },
    {
      "cell_type": "code",
      "source": [
        "sw = sw.upper()"
      ],
      "metadata": {
        "id": "i1mZMU0lTXpD"
      },
      "execution_count": null,
      "outputs": []
    },
    {
      "cell_type": "code",
      "source": [
        "sw"
      ],
      "metadata": {
        "colab": {
          "base_uri": "https://localhost:8080/",
          "height": 53
        },
        "id": "ZFdSLBoYTXsT",
        "outputId": "7f5a4d27-6ffc-4eca-a09c-9760127b48ea"
      },
      "execution_count": null,
      "outputs": [
        {
          "output_type": "execute_result",
          "data": {
            "text/plain": [
              "'SAMSUNG GROUP,[3] OR SIMPLY SAMSUNG (KOREAN: 삼성; RR: SAMSEONG [SAMSɅŊ]) (STYLIZED AS SΛMSUNG), IS A SOUTH KOREAN MULTINATIONAL MANUFACTURING CONGLOMERATE HEADQUARTERED IN SAMSUNG TOWN, SEOUL, SOUTH KOREA'"
            ],
            "application/vnd.google.colaboratory.intrinsic+json": {
              "type": "string"
            }
          },
          "metadata": {},
          "execution_count": 93
        }
      ]
    },
    {
      "cell_type": "code",
      "source": [
        "#                                                                  \" 24.Lower Cases \"\n",
        "\n",
        "# If I would like to convert everything into a lower case or Lower sentences there is a function call \"Lower\"\n",
        "\n",
        "sw.lower()"
      ],
      "metadata": {
        "colab": {
          "base_uri": "https://localhost:8080/",
          "height": 53
        },
        "id": "Red2m_6iTcN8",
        "outputId": "89feb30b-eff3-4d15-9652-735084f27255"
      },
      "execution_count": null,
      "outputs": [
        {
          "output_type": "execute_result",
          "data": {
            "text/plain": [
              "'samsung group,[3] or simply samsung (korean: 삼성; rr: samseong [samsʌŋ]) (stylized as sλmsung), is a south korean multinational manufacturing conglomerate headquartered in samsung town, seoul, south korea'"
            ],
            "application/vnd.google.colaboratory.intrinsic+json": {
              "type": "string"
            }
          },
          "metadata": {},
          "execution_count": 94
        }
      ]
    },
    {
      "cell_type": "code",
      "source": [
        "#                                                                     40.\" Title \"\n",
        "\n",
        "#If we use \"Title Function\" then our 1st letter of sentences will be in capital letter or upper case\n",
        "\n",
        "#Example: \"vijay\" then if we call \"Title Function\" then my very 1st letter \"V\" will be Capital letter & rest letter will be smal\n",
        "\n",
        "#So its convert into # \"Vijay\""
      ],
      "metadata": {
        "id": "S-9cFc3HTcQ3"
      },
      "execution_count": null,
      "outputs": []
    },
    {
      "cell_type": "code",
      "source": [
        "v = \"vijay\""
      ],
      "metadata": {
        "id": "1wiV1bkwTcUD"
      },
      "execution_count": null,
      "outputs": []
    },
    {
      "cell_type": "code",
      "source": [
        "v.title()"
      ],
      "metadata": {
        "colab": {
          "base_uri": "https://localhost:8080/",
          "height": 35
        },
        "id": "yG11T86cTcZk",
        "outputId": "efdaf98d-27a4-44b9-8aaa-5953cf960a9b"
      },
      "execution_count": null,
      "outputs": [
        {
          "output_type": "execute_result",
          "data": {
            "text/plain": [
              "'Vijay'"
            ],
            "application/vnd.google.colaboratory.intrinsic+json": {
              "type": "string"
            }
          },
          "metadata": {},
          "execution_count": 96
        }
      ]
    },
    {
      "cell_type": "code",
      "source": [
        " #                                                                     \" 1.Capitalize \"\n",
        "\n",
        "# Capital Function - Capital function if we call then we will get same output as it is in \"Title function\".\n",
        "\n",
        "# whenever we call \"Capitalize Function\" my very 1st letter is going to be a upper case or Capital letter.\n",
        "\n",
        "# Note :- \"TITLE & CAPITALIZE FUNCTION\" Gives us same outcome as a very 1st letter in Capital letter."
      ],
      "metadata": {
        "id": "5jK83bwzTcdc"
      },
      "execution_count": null,
      "outputs": []
    },
    {
      "cell_type": "code",
      "source": [
        "v =  \"vijay\""
      ],
      "metadata": {
        "id": "wPpV2v_aTXvW"
      },
      "execution_count": null,
      "outputs": []
    },
    {
      "cell_type": "code",
      "source": [
        "v.capitalize()"
      ],
      "metadata": {
        "colab": {
          "base_uri": "https://localhost:8080/",
          "height": 35
        },
        "id": "pG2MNaiZT9ZW",
        "outputId": "7753f0d8-67cc-4137-8362-de063bc81589"
      },
      "execution_count": null,
      "outputs": [
        {
          "output_type": "execute_result",
          "data": {
            "text/plain": [
              "'Vijay'"
            ],
            "application/vnd.google.colaboratory.intrinsic+json": {
              "type": "string"
            }
          },
          "metadata": {},
          "execution_count": 99
        }
      ]
    },
    {
      "cell_type": "code",
      "source": [
        " #                                                                           \" 39.Swapcase \"\n",
        "\n",
        "#Swapcase FUnction :- Upper cases or Capital Letters converted into a Lower Cases or Small Letter character / &\n",
        "# Lower Cases or Small Letter Convert into Upper Cases/Capital Letter."
      ],
      "metadata": {
        "id": "n7uOc1-hT-8J"
      },
      "execution_count": null,
      "outputs": []
    },
    {
      "cell_type": "code",
      "source": [
        "v =  \"Vijay guRunG\""
      ],
      "metadata": {
        "id": "r6qaJoSfU7Ij"
      },
      "execution_count": null,
      "outputs": []
    },
    {
      "cell_type": "code",
      "source": [
        "v.swapcase()"
      ],
      "metadata": {
        "colab": {
          "base_uri": "https://localhost:8080/",
          "height": 35
        },
        "id": "IcbuAXBLU7Lo",
        "outputId": "32f377ad-49fe-40a8-fc45-27d03bfda6af"
      },
      "execution_count": null,
      "outputs": [
        {
          "output_type": "execute_result",
          "data": {
            "text/plain": [
              "'vIJAY GUrUNg'"
            ],
            "application/vnd.google.colaboratory.intrinsic+json": {
              "type": "string"
            }
          },
          "metadata": {},
          "execution_count": 101
        }
      ]
    },
    {
      "cell_type": "code",
      "source": [
        "v = \"Vijay guRuNG\""
      ],
      "metadata": {
        "id": "KuAILF3MVDKs"
      },
      "execution_count": null,
      "outputs": []
    },
    {
      "cell_type": "code",
      "source": [
        "reversed(v)"
      ],
      "metadata": {
        "colab": {
          "base_uri": "https://localhost:8080/"
        },
        "id": "suO5Au1hVFc5",
        "outputId": "c8a6b241-eed3-4819-e49a-090a2b14dac1"
      },
      "execution_count": null,
      "outputs": [
        {
          "output_type": "execute_result",
          "data": {
            "text/plain": [
              "<reversed at 0x7e2c6173ed10>"
            ]
          },
          "metadata": {},
          "execution_count": 103
        }
      ]
    },
    {
      "cell_type": "code",
      "source": [
        "' '.join(reversed(v))"
      ],
      "metadata": {
        "colab": {
          "base_uri": "https://localhost:8080/",
          "height": 35
        },
        "id": "ldY1iAfQVGzi",
        "outputId": "915960f3-807c-43d0-f755-51d8d9c2c8a2"
      },
      "execution_count": null,
      "outputs": [
        {
          "output_type": "execute_result",
          "data": {
            "text/plain": [
              "'G N u R u g   y a j i V'"
            ],
            "application/vnd.google.colaboratory.intrinsic+json": {
              "type": "string"
            }
          },
          "metadata": {},
          "execution_count": 104
        }
      ]
    },
    {
      "cell_type": "code",
      "source": [
        "                                                                    # \" 38.Strip \"\n",
        "\n",
        "# Strip Functon :- Here in these code, we can see inside string code a space before \"vijay\" string & after space of \"Vijay\".\n",
        "\n",
        "# If you want to remove that space between \"Vijay\" after & before space that case we will use \"Strip Function\".\n",
        "\n",
        "# Strip always try to strip of space which is available before & after string.\n",
        "\n",
        "# \"Strip Function\" - IF we have space on left hand side as well as right hand side. If we want to remove both then, I will\n",
        "#Just call Strip()"
      ],
      "metadata": {
        "id": "10hfdIEnVIoD"
      },
      "execution_count": null,
      "outputs": []
    },
    {
      "cell_type": "code",
      "source": [
        "v =  \"   vijay  \""
      ],
      "metadata": {
        "id": "tmTEO3BTVRQs"
      },
      "execution_count": null,
      "outputs": []
    },
    {
      "cell_type": "code",
      "source": [
        "v.strip()"
      ],
      "metadata": {
        "colab": {
          "base_uri": "https://localhost:8080/",
          "height": 35
        },
        "id": "b-N11VQtVSAm",
        "outputId": "ab0e0229-3e90-482f-f384-90a46430d618"
      },
      "execution_count": null,
      "outputs": [
        {
          "output_type": "execute_result",
          "data": {
            "text/plain": [
              "'vijay'"
            ],
            "application/vnd.google.colaboratory.intrinsic+json": {
              "type": "string"
            }
          },
          "metadata": {},
          "execution_count": 107
        }
      ]
    },
    {
      "cell_type": "code",
      "source": [
        "v = \"   Vi  jay  \""
      ],
      "metadata": {
        "id": "19GV2ghtVTZn"
      },
      "execution_count": null,
      "outputs": []
    },
    {
      "cell_type": "code",
      "source": [
        "v.strip()"
      ],
      "metadata": {
        "colab": {
          "base_uri": "https://localhost:8080/",
          "height": 35
        },
        "id": "y_fLqmiNVVNY",
        "outputId": "604c5573-a1cc-4f34-e53a-4170fb98a3d1"
      },
      "execution_count": null,
      "outputs": [
        {
          "output_type": "execute_result",
          "data": {
            "text/plain": [
              "'Vi  jay'"
            ],
            "application/vnd.google.colaboratory.intrinsic+json": {
              "type": "string"
            }
          },
          "metadata": {},
          "execution_count": 109
        }
      ]
    },
    {
      "cell_type": "code",
      "source": [
        " #                                                              \" 25.Lstrip & 34.RStrip \"\n",
        "\n",
        "# 1.LStrip Function :-\n",
        "#If i a going to call \"Lstrip\" Function. we can that from left hand side whatever space we have. It will going to strip that\n",
        "#part. But the right Hand Side space it will be not remove it remain same as it is.\n",
        "#\"LStrip\" only remove space of left side not right side.\n",
        "\n",
        "# 2.Rstrip Fuction :-\n",
        "\n",
        "# If I am going to call a \"Rstrip\" then it will going to remove space from right hand side.It will not going to remove\n",
        "#left Hand side , it will only remove right hand side."
      ],
      "metadata": {
        "id": "51sC_uS0VWv1"
      },
      "execution_count": null,
      "outputs": []
    },
    {
      "cell_type": "code",
      "source": [
        "v"
      ],
      "metadata": {
        "colab": {
          "base_uri": "https://localhost:8080/",
          "height": 35
        },
        "id": "x6KvH_TbVXeP",
        "outputId": "d70c1417-83a8-4b3a-e93b-d9217098c4c0"
      },
      "execution_count": null,
      "outputs": [
        {
          "output_type": "execute_result",
          "data": {
            "text/plain": [
              "'   Vi  jay  '"
            ],
            "application/vnd.google.colaboratory.intrinsic+json": {
              "type": "string"
            }
          },
          "metadata": {},
          "execution_count": 110
        }
      ]
    },
    {
      "cell_type": "code",
      "source": [
        "v.lstrip()"
      ],
      "metadata": {
        "colab": {
          "base_uri": "https://localhost:8080/",
          "height": 35
        },
        "id": "qfnvvmyFVXhg",
        "outputId": "fc9b98d7-6ff7-4cdb-f7b3-7b70e4b89562"
      },
      "execution_count": null,
      "outputs": [
        {
          "output_type": "execute_result",
          "data": {
            "text/plain": [
              "'Vi  jay  '"
            ],
            "application/vnd.google.colaboratory.intrinsic+json": {
              "type": "string"
            }
          },
          "metadata": {},
          "execution_count": 111
        }
      ]
    },
    {
      "cell_type": "code",
      "source": [
        "v.rstrip()"
      ],
      "metadata": {
        "colab": {
          "base_uri": "https://localhost:8080/",
          "height": 35
        },
        "id": "7jUv4R_UVXkf",
        "outputId": "011c1781-f98d-4ef8-8e93-b60d38303567"
      },
      "execution_count": null,
      "outputs": [
        {
          "output_type": "execute_result",
          "data": {
            "text/plain": [
              "'   Vi  jay'"
            ],
            "application/vnd.google.colaboratory.intrinsic+json": {
              "type": "string"
            }
          },
          "metadata": {},
          "execution_count": 112
        }
      ]
    },
    {
      "cell_type": "code",
      "source": [
        "#                                                               \" Join Function \"\n",
        "\n",
        "\n",
        "# If we have to join something, so with the help of [ space (\"  \").join ] & I can try to call\"vijaygurung\" string.\n",
        "# Here a outcome we can see that joined that \"vijaygurung\" & it joined this particular space. (\"  \").With each &\n",
        "#ever Character.\n",
        "\n",
        "# Lets suppose I would like to put some character over here instead of space.This time we put letter \"a\"\n",
        "# As a outcome we can see over here is that, after every character it has joined letter \"a\""
      ],
      "metadata": {
        "id": "QGIngSDPVXnQ"
      },
      "execution_count": null,
      "outputs": []
    },
    {
      "cell_type": "code",
      "source": [
        "v = \"Vijaygurung\""
      ],
      "metadata": {
        "id": "-PiBZHISVXtB"
      },
      "execution_count": null,
      "outputs": []
    },
    {
      "cell_type": "code",
      "source": [
        "\"  \".join(\"vijaygurung\")"
      ],
      "metadata": {
        "colab": {
          "base_uri": "https://localhost:8080/",
          "height": 35
        },
        "id": "oYLqyWqIVXv2",
        "outputId": "904d5f3c-cd27-446a-f46c-b2d2ffda6a16"
      },
      "execution_count": null,
      "outputs": [
        {
          "output_type": "execute_result",
          "data": {
            "text/plain": [
              "'v  i  j  a  y  g  u  r  u  n  g'"
            ],
            "application/vnd.google.colaboratory.intrinsic+json": {
              "type": "string"
            }
          },
          "metadata": {},
          "execution_count": 114
        }
      ]
    },
    {
      "cell_type": "code",
      "source": [
        "v =  \"vijaygurung\""
      ],
      "metadata": {
        "id": "bN1U2YitVpG6"
      },
      "execution_count": null,
      "outputs": []
    },
    {
      "cell_type": "code",
      "source": [
        "\"a\".join(\"vijaygurung\")"
      ],
      "metadata": {
        "colab": {
          "base_uri": "https://localhost:8080/",
          "height": 35
        },
        "id": "45X5An-qVq6j",
        "outputId": "fadb7dcb-4639-4f00-b268-73cb6a969d47"
      },
      "execution_count": null,
      "outputs": [
        {
          "output_type": "execute_result",
          "data": {
            "text/plain": [
              "'vaiajaaayagauarauanag'"
            ],
            "application/vnd.google.colaboratory.intrinsic+json": {
              "type": "string"
            }
          },
          "metadata": {},
          "execution_count": 116
        }
      ]
    },
    {
      "cell_type": "code",
      "source": [
        "#                                                                    \" 3.Center Function \"\"\n",
        "\n",
        "\n",
        "# If i a having a string v = \"vijay\" If am going call \"center Function\".It take 2 parameter.\n",
        "\n",
        "# 1. Width\n",
        "# 2. Character\n",
        "\n",
        "#1. Width (z) :-\n",
        "# If I am going to give 20. 20 is nothing but reserved space.\n",
        "#So it will going to reserved 20 space & then I can try to call basically reversed all of these with \"Z\"\n",
        "\n",
        "# It will going to reserved 20 number of space. In center it will try to put particular string \"Vijay\".\n",
        "\n",
        "#2. Charater (# ) :-\n",
        "\n",
        "# Here also whatever data, I am going to place it is going to fill all these space with that particular character."
      ],
      "metadata": {
        "id": "6S-rH-DUVsWS"
      },
      "execution_count": null,
      "outputs": []
    },
    {
      "cell_type": "code",
      "source": [
        "v =  \"vijay\""
      ],
      "metadata": {
        "id": "Is1mJf_jVurW"
      },
      "execution_count": null,
      "outputs": []
    },
    {
      "cell_type": "code",
      "source": [
        "v.center(20,\"z\")"
      ],
      "metadata": {
        "colab": {
          "base_uri": "https://localhost:8080/",
          "height": 35
        },
        "id": "YleQk1xCVuut",
        "outputId": "731277d0-7285-4128-d2c5-bc8818cb84d4"
      },
      "execution_count": null,
      "outputs": [
        {
          "output_type": "execute_result",
          "data": {
            "text/plain": [
              "'zzzzzzzvijayzzzzzzzz'"
            ],
            "application/vnd.google.colaboratory.intrinsic+json": {
              "type": "string"
            }
          },
          "metadata": {},
          "execution_count": 118
        }
      ]
    },
    {
      "cell_type": "code",
      "source": [
        "v = \"vijay\""
      ],
      "metadata": {
        "id": "Uj4nEuB7Vu0I"
      },
      "execution_count": null,
      "outputs": []
    },
    {
      "cell_type": "code",
      "source": [
        "v.center(20, \"#\")"
      ],
      "metadata": {
        "colab": {
          "base_uri": "https://localhost:8080/",
          "height": 35
        },
        "id": "JHhgXXCHV3Yf",
        "outputId": "8341fd16-8804-491f-a40c-0b1bf2330b5b"
      },
      "execution_count": null,
      "outputs": [
        {
          "output_type": "execute_result",
          "data": {
            "text/plain": [
              "'#######vijay########'"
            ],
            "application/vnd.google.colaboratory.intrinsic+json": {
              "type": "string"
            }
          },
          "metadata": {},
          "execution_count": 120
        }
      ]
    },
    {
      "cell_type": "code",
      "source": [
        "#                                                                \" Is - Function \"\n",
        "\n",
        "#With respect to string(str) there is many function which is available in the string (Str)\n",
        "\n",
        "#Here whatever function available with \"IS\" they are going to return  \"True or False\".\n",
        "#So, It is going to check it is available in Upper case or Lower case Alphabetic, numeric all shot of things it will going\n",
        "# to check.\n",
        "\n",
        "# \"IS\" is the function which is going to start with \"IS\" bydefault it is going to return whether \"True or False\".\n",
        "\n",
        "# We can say a boolean Value at any point of the time."
      ],
      "metadata": {
        "id": "9MYCSVQ_V44K"
      },
      "execution_count": null,
      "outputs": []
    },
    {
      "cell_type": "code",
      "source": [
        "#                                                           IS - Function\n",
        "\n",
        "# 1.IsAlnum\n",
        "\n",
        "# 2.IsAlpha\n",
        "\n",
        "# 3.IsAscii\n",
        "\n",
        "# 4.IsDecimal\n",
        "\n",
        "# 5.IsDigit\n",
        "\n",
        "# 6.IsIdentifier\n",
        "\n",
        "# 7.IsLower\n",
        "\n",
        "# 8.IsNumeric\n",
        "\n",
        "# 9.IsPrintable\n",
        "\n",
        "# 10.IsSpace\n",
        "\n",
        "# 11.IsTitle\n",
        "\n",
        "# 12.IsUpper"
      ],
      "metadata": {
        "id": "7B97DDTjV7g7"
      },
      "execution_count": null,
      "outputs": []
    },
    {
      "cell_type": "code",
      "source": [
        "# This is my \"String\"      -\n",
        "\n",
        "v = \"Vijaygurung\""
      ],
      "metadata": {
        "id": "eQTvLvfAV7m7"
      },
      "execution_count": null,
      "outputs": []
    },
    {
      "cell_type": "code",
      "source": [
        "v.isupper()"
      ],
      "metadata": {
        "colab": {
          "base_uri": "https://localhost:8080/"
        },
        "id": "TFYyVv9uV7pp",
        "outputId": "404bd9f0-cd16-4d81-8d13-821805b1a9d4"
      },
      "execution_count": null,
      "outputs": [
        {
          "output_type": "execute_result",
          "data": {
            "text/plain": [
              "False"
            ]
          },
          "metadata": {},
          "execution_count": 122
        }
      ]
    },
    {
      "cell_type": "code",
      "source": [
        "v1 = \"GURUNG\""
      ],
      "metadata": {
        "id": "TQ7nf4qiW5Zq"
      },
      "execution_count": null,
      "outputs": []
    },
    {
      "cell_type": "code",
      "source": [
        "v1.isupper()"
      ],
      "metadata": {
        "colab": {
          "base_uri": "https://localhost:8080/"
        },
        "id": "7Qn3YY6yW650",
        "outputId": "71d05a1e-af59-41d4-d975-c59e8b49ea7c"
      },
      "execution_count": null,
      "outputs": [
        {
          "output_type": "execute_result",
          "data": {
            "text/plain": [
              "True"
            ]
          },
          "metadata": {},
          "execution_count": 124
        }
      ]
    },
    {
      "cell_type": "code",
      "source": [
        "#                                                                 1.IsAlnum Function | 2.IsAlpha\n",
        "\n",
        "# 1.IsAlnum / \"AlphaNumeric\" Function  & 2. IsAlpha - \"Alpha\"\n",
        "\n",
        "# If I am going to call Alnum or AlphaNumeric means combination of both \"Alpha & Numeric\".\n",
        "\n",
        "# \"Alpha Numeric\" always check for either \"Alpha or Numeric\".It always apply \"or Condition\".\n",
        "\n",
        "# In these code \" Vijaygurung\" we can see that \"Alpha\" is available but numeric is not available, but anyone is available\n",
        "# then  outcome will be \"True\"\n",
        "\n",
        "#   V7 = \"345345sgfdg\" Here we have \"345345sgfdg\" string we have taken, If I am going to check V7.Isalpha()\n",
        "\n",
        "# My outcome will be \"False\" Because, we are just checking for \"Alpha\" \"V7.Isalpha\" but in our string we have both\n",
        "\n",
        "# Appha as well as Numeric character.That case my outcome will be \"False\""
      ],
      "metadata": {
        "id": "R-GKpgnYW8j9"
      },
      "execution_count": null,
      "outputs": []
    },
    {
      "cell_type": "code",
      "source": [
        "v =  \"Vijaygurung\""
      ],
      "metadata": {
        "id": "gfaViqusXGqS"
      },
      "execution_count": null,
      "outputs": []
    },
    {
      "cell_type": "code",
      "source": [
        "v.isalnum()"
      ],
      "metadata": {
        "colab": {
          "base_uri": "https://localhost:8080/"
        },
        "id": "YaKZiQkKXHCx",
        "outputId": "553bf169-5213-473a-d847-582a8e9368cd"
      },
      "execution_count": null,
      "outputs": [
        {
          "output_type": "execute_result",
          "data": {
            "text/plain": [
              "True"
            ]
          },
          "metadata": {},
          "execution_count": 127
        }
      ]
    },
    {
      "cell_type": "code",
      "source": [
        "v = \"Vijaygurung\""
      ],
      "metadata": {
        "id": "Njqujt9CXHHT"
      },
      "execution_count": null,
      "outputs": []
    },
    {
      "cell_type": "code",
      "source": [
        "v.isalpha()"
      ],
      "metadata": {
        "colab": {
          "base_uri": "https://localhost:8080/"
        },
        "id": "dSHYsuIjXHJ5",
        "outputId": "6ebaac17-afb9-4933-f05a-7098a3f9ce09"
      },
      "execution_count": null,
      "outputs": [
        {
          "output_type": "execute_result",
          "data": {
            "text/plain": [
              "True"
            ]
          },
          "metadata": {},
          "execution_count": 129
        }
      ]
    },
    {
      "cell_type": "code",
      "source": [
        "v4 = \"345345sgfdg\""
      ],
      "metadata": {
        "id": "CNr55b3bXHMs"
      },
      "execution_count": null,
      "outputs": []
    },
    {
      "cell_type": "code",
      "source": [
        "v4.isalpha()"
      ],
      "metadata": {
        "colab": {
          "base_uri": "https://localhost:8080/"
        },
        "id": "QOhe1NwGXNeW",
        "outputId": "ac77086a-e36c-4f0f-e4b1-325b12c8d4b7"
      },
      "execution_count": null,
      "outputs": [
        {
          "output_type": "execute_result",
          "data": {
            "text/plain": [
              "False"
            ]
          },
          "metadata": {},
          "execution_count": 132
        }
      ]
    },
    {
      "cell_type": "code",
      "source": [
        "#                                                           \"IS Function\"  ( \"3.IsAscii \")\n",
        "\n",
        "#ISAscii -  ( Return \"True\" if Characters in the string are \"ASCII\", False Otherwise)\n",
        "#ASCII -  characters have code points in the range U+ 0000-U+007F.\n",
        "\n",
        "#Empty string is ASCII too.\n",
        "\n",
        "# Whatever we are trying to type its a \"Ascii\" for better undersatand Google it.\n",
        "\n",
        "#Every single string or character which is available which we can see in our keyboard,that will be going to be a \"ASCII\"."
      ],
      "metadata": {
        "id": "-dbmb9ekXNhA"
      },
      "execution_count": null,
      "outputs": []
    },
    {
      "cell_type": "code",
      "source": [
        "                                                                           #5.IsDigit\n",
        "\n",
        "# ISDigit -  Return \"True\" if the string is a digit, False otherwise.\n",
        "\n",
        "# If my string is \"Vijaygurung\"  if I am calling \"Isdigit\" my outcome will be \"False\".\n",
        "\n",
        "#Because, it is not available in digit form. So, That is why my outcome will be the \"False\"\n",
        "\n",
        "#If I am giving \"integer\" in the digit \"3456\" form instead of \"string\",then my outcome will be \"True\".\n",
        "\n",
        "# If we have both \"Numeric as well as digit \"pqr3456\". My outcome will be 'False', Because it is not on the complete digit\n",
        "#not a complete String.\n",
        "\n",
        "#So, \"Digit\" always going to check for the digit one."
      ],
      "metadata": {
        "id": "KmELpw3iXNj_"
      },
      "execution_count": null,
      "outputs": []
    },
    {
      "cell_type": "code",
      "source": [
        "v = \"Vijaygurung\""
      ],
      "metadata": {
        "id": "eb8BIgJoXNm0"
      },
      "execution_count": null,
      "outputs": []
    },
    {
      "cell_type": "code",
      "source": [
        "v.isdigit()"
      ],
      "metadata": {
        "colab": {
          "base_uri": "https://localhost:8080/"
        },
        "id": "h9MBD0B3XsH4",
        "outputId": "b380cdaa-08c5-45be-e66f-62d0f2152c15"
      },
      "execution_count": null,
      "outputs": [
        {
          "output_type": "execute_result",
          "data": {
            "text/plain": [
              "False"
            ]
          },
          "metadata": {},
          "execution_count": 135
        }
      ]
    },
    {
      "cell_type": "code",
      "source": [
        "v5 = \"3456\""
      ],
      "metadata": {
        "id": "CygtlL0HXsKs"
      },
      "execution_count": null,
      "outputs": []
    },
    {
      "cell_type": "code",
      "source": [
        "v5.isdigit()"
      ],
      "metadata": {
        "colab": {
          "base_uri": "https://localhost:8080/"
        },
        "id": "gRVNPEgrXsNz",
        "outputId": "8e4eafb8-1fed-4e28-adf9-733d2944ac81"
      },
      "execution_count": null,
      "outputs": [
        {
          "output_type": "execute_result",
          "data": {
            "text/plain": [
              "True"
            ]
          },
          "metadata": {},
          "execution_count": 137
        }
      ]
    },
    {
      "cell_type": "code",
      "source": [
        "v6 =  \"Pqr3456\""
      ],
      "metadata": {
        "id": "pVqX2k2eXxt2"
      },
      "execution_count": null,
      "outputs": []
    },
    {
      "cell_type": "code",
      "source": [
        "v6.isdigit()"
      ],
      "metadata": {
        "colab": {
          "base_uri": "https://localhost:8080/"
        },
        "id": "BgR4waBEXzfR",
        "outputId": "dde74bec-6127-44a1-e805-1d8fc14bd506"
      },
      "execution_count": null,
      "outputs": [
        {
          "output_type": "execute_result",
          "data": {
            "text/plain": [
              "False"
            ]
          },
          "metadata": {},
          "execution_count": 139
        }
      ]
    },
    {
      "cell_type": "code",
      "source": [
        " #                                                                 \" 6.endswitch Function \"\n",
        "\n",
        "# Here I am trying to check \"U\". Here I am trying to check \"endwith\" with \"U\".\n",
        "\n",
        "#If we execute it we get \"False\" because my string Str \"Vijaygurung\" endswith letter \"g\". But I am saying endswith \"u\".\n",
        "#That is the region geeting an Error.\n",
        "\n",
        "# same case this time if I say endswith with \"g\". That is \"True\" so I am geeting \"True\" outcome."
      ],
      "metadata": {
        "id": "VVury6NGX1Ev"
      },
      "execution_count": null,
      "outputs": []
    },
    {
      "cell_type": "code",
      "source": [
        "v = \"vijaygurung\""
      ],
      "metadata": {
        "id": "JOvqMSx4X4rb"
      },
      "execution_count": null,
      "outputs": []
    },
    {
      "cell_type": "code",
      "source": [
        "v.endswith(\"u\")"
      ],
      "metadata": {
        "colab": {
          "base_uri": "https://localhost:8080/"
        },
        "id": "5sZRHbHsX4ul",
        "outputId": "7ae71ad3-3c6d-41da-f1c5-be16b01e33dc"
      },
      "execution_count": null,
      "outputs": [
        {
          "output_type": "execute_result",
          "data": {
            "text/plain": [
              "False"
            ]
          },
          "metadata": {},
          "execution_count": 141
        }
      ]
    },
    {
      "cell_type": "code",
      "source": [
        "v.endswith(\"g\")"
      ],
      "metadata": {
        "colab": {
          "base_uri": "https://localhost:8080/"
        },
        "id": "g6R8NiZ_X4xZ",
        "outputId": "a2df3d25-bebf-4ace-800e-4f8fc59a6ea2"
      },
      "execution_count": null,
      "outputs": [
        {
          "output_type": "execute_result",
          "data": {
            "text/plain": [
              "True"
            ]
          },
          "metadata": {},
          "execution_count": 142
        }
      ]
    },
    {
      "cell_type": "code",
      "source": [
        "#                                                  \"IS Function\"  - ( \"5.IsDigit\" ) |  ( \"8.IsNumeric\")\n",
        "\n",
        "#ISDigit & IsNumeric Difference between.\n",
        "\n",
        "#IsDigit :- Return \"True\" if the string is a digit string, False otherwise.\n",
        "\n",
        "# -> A string is a digit string if all character in the string are digits & there is at least one digits & there is atleast\n",
        "# one character in the string.\n",
        "\n",
        "#IsDigit :- Retrn \"True\" if the string is a Numeric string, False Otherwise.\n",
        "\n",
        "#-> A string is Numeric if all character in the string are Numeric & there is atleast one character in the string."
      ],
      "metadata": {
        "id": "TBcqTZSQX_vA"
      },
      "execution_count": null,
      "outputs": []
    },
    {
      "cell_type": "code",
      "source": [
        "v = \"vijaygurung\""
      ],
      "metadata": {
        "id": "uqsWJdeSY1tM"
      },
      "execution_count": null,
      "outputs": []
    },
    {
      "cell_type": "code",
      "source": [
        "v.isdigit()"
      ],
      "metadata": {
        "colab": {
          "base_uri": "https://localhost:8080/"
        },
        "id": "169iriPoY1wA",
        "outputId": "2a193074-a0e5-4fbf-9383-248ac49ddac6"
      },
      "execution_count": null,
      "outputs": [
        {
          "output_type": "execute_result",
          "data": {
            "text/plain": [
              "False"
            ]
          },
          "metadata": {},
          "execution_count": 144
        }
      ]
    },
    {
      "cell_type": "code",
      "source": [
        "v = \"453443\""
      ],
      "metadata": {
        "id": "_qBhtNTHY1zE"
      },
      "execution_count": null,
      "outputs": []
    },
    {
      "cell_type": "code",
      "source": [
        "v.isdigit()"
      ],
      "metadata": {
        "colab": {
          "base_uri": "https://localhost:8080/"
        },
        "id": "Ng4Eh_ovY110",
        "outputId": "cc8d5f93-5652-4173-d55f-893b6c714e31"
      },
      "execution_count": null,
      "outputs": [
        {
          "output_type": "execute_result",
          "data": {
            "text/plain": [
              "True"
            ]
          },
          "metadata": {},
          "execution_count": 146
        }
      ]
    },
    {
      "cell_type": "code",
      "source": [
        "v = \"vijaygurung\""
      ],
      "metadata": {
        "id": "aN_iDLodY-36"
      },
      "execution_count": null,
      "outputs": []
    },
    {
      "cell_type": "code",
      "source": [
        "v.isnumeric()"
      ],
      "metadata": {
        "colab": {
          "base_uri": "https://localhost:8080/"
        },
        "id": "SjYicQaYY_na",
        "outputId": "c474ba3f-e91e-4113-f952-6d28528b4d66"
      },
      "execution_count": null,
      "outputs": [
        {
          "output_type": "execute_result",
          "data": {
            "text/plain": [
              "False"
            ]
          },
          "metadata": {},
          "execution_count": 148
        }
      ]
    },
    {
      "cell_type": "code",
      "source": [
        "v1 = \"fast3456732\""
      ],
      "metadata": {
        "id": "mGTTYoMAY_sV"
      },
      "execution_count": null,
      "outputs": []
    },
    {
      "cell_type": "code",
      "source": [
        "v1.isnumeric()"
      ],
      "metadata": {
        "colab": {
          "base_uri": "https://localhost:8080/"
        },
        "id": "7RtK70FVY_vb",
        "outputId": "7211de31-2149-434b-d12e-0d42614b21d5"
      },
      "execution_count": null,
      "outputs": [
        {
          "output_type": "execute_result",
          "data": {
            "text/plain": [
              "False"
            ]
          },
          "metadata": {},
          "execution_count": 150
        }
      ]
    },
    {
      "cell_type": "code",
      "source": [
        "v2 = \"345435\""
      ],
      "metadata": {
        "id": "9uW1bBpPY_yJ"
      },
      "execution_count": null,
      "outputs": []
    },
    {
      "cell_type": "code",
      "source": [
        "v2.isnumeric()"
      ],
      "metadata": {
        "colab": {
          "base_uri": "https://localhost:8080/"
        },
        "id": "X9XnRbigZFzu",
        "outputId": "5029a05d-afc3-495a-cbc0-60583ac44712"
      },
      "execution_count": null,
      "outputs": [
        {
          "output_type": "execute_result",
          "data": {
            "text/plain": [
              "True"
            ]
          },
          "metadata": {},
          "execution_count": 152
        }
      ]
    },
    {
      "cell_type": "code",
      "source": [
        "v.isnumeric()"
      ],
      "metadata": {
        "colab": {
          "base_uri": "https://localhost:8080/"
        },
        "id": "--OdqHf0ZF2z",
        "outputId": "464579f3-9d59-4f48-c8b6-e6f0724a2f54"
      },
      "execution_count": null,
      "outputs": [
        {
          "output_type": "execute_result",
          "data": {
            "text/plain": [
              "False"
            ]
          },
          "metadata": {},
          "execution_count": 153
        }
      ]
    },
    {
      "cell_type": "code",
      "source": [
        "#                                       \" 7.Expantabs Function \"\n",
        "\n",
        "#Expandtabs - Here inbetween we have a Tab(t), these is something we have inbetween. & then (\\t Tab) is nothing but it\n",
        "#Equvalent to 3 spaces that we can do help of \"ExpandTabs\""
      ],
      "metadata": {
        "id": "zliJARoBZF5x"
      },
      "execution_count": null,
      "outputs": []
    },
    {
      "cell_type": "code",
      "source": [
        "v = \"vijay\\ gurung \\ datascience\""
      ],
      "metadata": {
        "id": "yiXsQKP5ZMAa"
      },
      "execution_count": null,
      "outputs": []
    },
    {
      "cell_type": "code",
      "source": [
        "v.expandtabs()"
      ],
      "metadata": {
        "colab": {
          "base_uri": "https://localhost:8080/",
          "height": 35
        },
        "id": "zaFih4U-ZMDw",
        "outputId": "36bba605-63e1-4fbf-afd8-88c30266347b"
      },
      "execution_count": null,
      "outputs": [
        {
          "output_type": "execute_result",
          "data": {
            "text/plain": [
              "'vijay\\\\ gurung \\\\ datascience'"
            ],
            "application/vnd.google.colaboratory.intrinsic+json": {
              "type": "string"
            }
          },
          "metadata": {},
          "execution_count": 155
        }
      ]
    },
    {
      "cell_type": "code",
      "source": [
        "v = \"vijay\\tgurung \\tdatascience\""
      ],
      "metadata": {
        "id": "eosbECM7ZMGv"
      },
      "execution_count": null,
      "outputs": []
    },
    {
      "cell_type": "code",
      "source": [
        "v.expandtabs()"
      ],
      "metadata": {
        "colab": {
          "base_uri": "https://localhost:8080/",
          "height": 35
        },
        "id": "syE_hlnXZMJV",
        "outputId": "20f9def0-87ac-4661-a403-3bb513e97525"
      },
      "execution_count": null,
      "outputs": [
        {
          "output_type": "execute_result",
          "data": {
            "text/plain": [
              "'vijay   gurung  datascience'"
            ],
            "application/vnd.google.colaboratory.intrinsic+json": {
              "type": "string"
            }
          },
          "metadata": {},
          "execution_count": 158
        }
      ]
    },
    {
      "cell_type": "code",
      "source": [],
      "metadata": {
        "id": "2_60rbFKZlvd"
      },
      "execution_count": null,
      "outputs": []
    }
  ]
}